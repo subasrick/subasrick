{
  "nbformat": 4,
  "nbformat_minor": 0,
  "metadata": {
    "colab": {
      "provenance": []
    },
    "kernelspec": {
      "name": "python3",
      "display_name": "Python 3"
    },
    "language_info": {
      "name": "python"
    }
  },
  "cells": [
    {
      "cell_type": "code",
      "execution_count": 30,
      "metadata": {
        "colab": {
          "base_uri": "https://localhost:8080/"
        },
        "id": "p0uQfJ9zZBbB",
        "outputId": "6d4159e7-ebb7-4253-e5dc-c0da67fd78a8"
      },
      "outputs": [
        {
          "output_type": "stream",
          "name": "stdout",
          "text": [
            "=====Diabetes Data=========\n",
            "      encounter_id  patient_id  hospital_id  hospital_death  age        bmi  \\\n",
            "0            66154       25312          118               0   68  22.730000   \n",
            "1           114252       59342           81               0   77  27.420000   \n",
            "2           119783       50777          118               0   25  31.950000   \n",
            "3            79267       46918          118               0   81  22.640000   \n",
            "4            92056       34377           33               0   19   0.000000   \n",
            "...            ...         ...          ...             ...  ...        ...   \n",
            "5057         57818       69825           33               0   49  22.240618   \n",
            "5058         50994      120681          118               0   54  67.037634   \n",
            "5059         93563       29500          118               0   67  18.580875   \n",
            "5060         68189       47847          118               0   64  31.341156   \n",
            "5061          2399      127788          118               0   62   0.000000   \n",
            "\n",
            "      h1_temp_max  heart_rate_apache   Time series    BGV NEW       Insulin  \\\n",
            "0            39.5                118  3.155444e-30  81.035652  3.993106e-30   \n",
            "1            36.3                120  2.594618e-03  81.035451  5.581970e-07   \n",
            "2            36.7                102  1.556771e-02  81.034447  3.349182e-06   \n",
            "3            35.6                114  8.043315e-02  81.029452  1.730411e-05   \n",
            "4             0.0                 60  1.662953e-01  81.022900  8.707873e-05   \n",
            "...           ...                ...           ...        ...           ...   \n",
            "5057         37.1                136  9.992196e+02 -64.231314  0.000000e+00   \n",
            "5058         36.7                 92  9.994750e+02 -64.159826  0.000000e+00   \n",
            "5059         36.7                 90  9.996517e+02 -64.110391  0.000000e+00   \n",
            "5060         36.7                111  9.998283e+02 -64.060965  0.000000e+00   \n",
            "5061         36.5                 54  1.000000e+03 -63.860080  0.000000e+00   \n",
            "\n",
            "      diabetes_mellitus  \n",
            "0                     1  \n",
            "1                     1  \n",
            "2                     0  \n",
            "3                     0  \n",
            "4                     0  \n",
            "...                 ...  \n",
            "5057                  0  \n",
            "5058                  0  \n",
            "5059                  0  \n",
            "5060                  1  \n",
            "5061                  1  \n",
            "\n",
            "[5062 rows x 12 columns]\n",
            "Size of Dataset\n",
            "==================\n",
            "(5062, 12)\n",
            "Data Information\n",
            "==================\n",
            "<class 'pandas.core.frame.DataFrame'>\n",
            "RangeIndex: 5062 entries, 0 to 5061\n",
            "Data columns (total 12 columns):\n",
            " #   Column             Non-Null Count  Dtype  \n",
            "---  ------             --------------  -----  \n",
            " 0   encounter_id       5062 non-null   int64  \n",
            " 1   patient_id         5062 non-null   int64  \n",
            " 2   hospital_id        5062 non-null   int64  \n",
            " 3   hospital_death     5062 non-null   int64  \n",
            " 4   age                5062 non-null   int64  \n",
            " 5   bmi                5062 non-null   float64\n",
            " 6   h1_temp_max        5062 non-null   float64\n",
            " 7   heart_rate_apache  5062 non-null   int64  \n",
            " 8   Time series        5062 non-null   float64\n",
            " 9   BGV NEW            5062 non-null   float64\n",
            " 10  Insulin            5062 non-null   float64\n",
            " 11  diabetes_mellitus  5062 non-null   int64  \n",
            "dtypes: float64(5), int64(7)\n",
            "memory usage: 474.7 KB\n",
            "None\n"
          ]
        }
      ],
      "source": [
        "import warnings\n",
        "warnings.filterwarnings(\"ignore\")\n",
        "import numpy as np\n",
        "import pandas as pd\n",
        "import seaborn as sns\n",
        "import matplotlib.pyplot as plt\n",
        "from sklearn import metrics\n",
        "df = pd.read_excel ('hospitaldatasetnew.xlsx', sheet_name='Sheet1')\n",
        "print('=====Diabetes Data=========')\n",
        "print(df)\n",
        "print('Size of Dataset')\n",
        "print('==================')\n",
        "print(df.shape)\n",
        "print('Data Information')\n",
        "print('==================')\n",
        "print(df.info())"
      ]
    },
    {
      "cell_type": "code",
      "source": [
        "# Statistical summary\n",
        "Stat=df.describe().T\n",
        "print('Statistical summary')\n",
        "print(Stat)\n",
        "print('Checking Null Values')\n",
        "df.isnull().sum()"
      ],
      "metadata": {
        "colab": {
          "base_uri": "https://localhost:8080/"
        },
        "id": "OgI9Q6MzbKAv",
        "outputId": "fb5b0ff7-c794-42b2-b162-2f90e2b49944"
      },
      "execution_count": 31,
      "outputs": [
        {
          "output_type": "stream",
          "name": "stdout",
          "text": [
            "Statistical summary\n",
            "                    count          mean           std           min  \\\n",
            "encounter_id       5062.0  67037.539115  37737.531936  1.200000e+01   \n",
            "patient_id         5062.0  65590.474714  37555.186779  6.000000e+00   \n",
            "hospital_id        5062.0    100.355986     29.661898  3.100000e+01   \n",
            "hospital_death     5062.0      0.055314      0.228615  0.000000e+00   \n",
            "age                5062.0     59.776571     20.611614  0.000000e+00   \n",
            "bmi                5062.0     23.905793     14.131857  0.000000e+00   \n",
            "h1_temp_max        5062.0     32.070585     12.295525  0.000000e+00   \n",
            "heart_rate_apache  5062.0     96.237456     31.998118  0.000000e+00   \n",
            "Time series        5062.0    498.376074    289.841701  3.155444e-30   \n",
            "BGV NEW            5062.0    -30.674331     64.168867 -1.398584e+02   \n",
            "Insulin            5062.0      8.871492     27.194744  0.000000e+00   \n",
            "diabetes_mellitus  5062.0      0.256025      0.436479  0.000000e+00   \n",
            "\n",
            "                            25%           50%           75%            max  \n",
            "encounter_id       34946.750000  68074.000000  99746.000000  131030.000000  \n",
            "patient_id         33251.250000  65821.000000  97947.500000  131040.000000  \n",
            "hospital_id           81.000000    118.000000    118.000000     151.000000  \n",
            "hospital_death         0.000000      0.000000      0.000000       1.000000  \n",
            "age                   51.000000     63.000000     74.000000      89.000000  \n",
            "bmi                   19.748930     26.116139     32.199880      67.814990  \n",
            "h1_temp_max           36.300000     36.700000     37.000000      39.500000  \n",
            "heart_rate_apache     64.000000    102.000000    116.000000     178.000000  \n",
            "Time series          247.523716    498.912921    749.175064    1000.000000  \n",
            "BGV NEW              -84.053279    -27.224593     16.620866      81.035652  \n",
            "Insulin                0.000000      0.000000      0.000000     145.200000  \n",
            "diabetes_mellitus      0.000000      0.000000      1.000000       1.000000  \n",
            "Checking Null Values\n"
          ]
        },
        {
          "output_type": "execute_result",
          "data": {
            "text/plain": [
              "encounter_id         0\n",
              "patient_id           0\n",
              "hospital_id          0\n",
              "hospital_death       0\n",
              "age                  0\n",
              "bmi                  0\n",
              "h1_temp_max          0\n",
              "heart_rate_apache    0\n",
              "Time series          0\n",
              "BGV NEW              0\n",
              "Insulin              0\n",
              "diabetes_mellitus    0\n",
              "dtype: int64"
            ]
          },
          "metadata": {},
          "execution_count": 31
        }
      ]
    },
    {
      "cell_type": "code",
      "source": [
        "print('Total No. of Normal/Diabetes Datas')\n",
        "sns.countplot(x = 'diabetes_mellitus',data = df)"
      ],
      "metadata": {
        "colab": {
          "base_uri": "https://localhost:8080/",
          "height": 315
        },
        "id": "axcOt3WHcKtM",
        "outputId": "0b169516-9851-4b4a-bdf4-500c8f2af3e2"
      },
      "execution_count": 32,
      "outputs": [
        {
          "output_type": "stream",
          "name": "stdout",
          "text": [
            "Total No. of Normal/Diabetes Datas\n"
          ]
        },
        {
          "output_type": "execute_result",
          "data": {
            "text/plain": [
              "<matplotlib.axes._subplots.AxesSubplot at 0x7fd4eee05820>"
            ]
          },
          "metadata": {},
          "execution_count": 32
        },
        {
          "output_type": "display_data",
          "data": {
            "text/plain": [
              "<Figure size 432x288 with 1 Axes>"
            ],
            "image/png": "[encoded data removed]"
          },
          "metadata": {
            "needs_background": "light"
          }
        }
      ]
    },
    {
      "cell_type": "code",
      "source": [
        "# Histogram of each feature\n",
        "import itertools\n",
        "col = df.columns[:11]\n",
        "plt.subplots(figsize = (20, 15))\n",
        "length = len(col)\n",
        "for i, j in itertools.zip_longest(col, range(length)):\n",
        "    plt.subplot((round(length/2)), 3, j + 1)\n",
        "    plt.subplots_adjust(wspace = 0.1,hspace = 0.5)\n",
        "    df[i].hist(bins = 20)\n",
        "    plt.title(i)\n",
        "plt.show()"
      ],
      "metadata": {
        "colab": {
          "base_uri": "https://localhost:8080/",
          "height": 483
        },
        "id": "zd3QiW1HdJzJ",
        "outputId": "f8a05e70-dea2-4f95-e7d0-1b9022ec2694"
      },
      "execution_count": 33,
      "outputs": [
        {
          "output_type": "display_data",
          "data": {
            "text/plain": [
              "<Figure size 1440x1080 with 11 Axes>"
            ],
            "image/png": "[encoded data removed]"
          },
          "metadata": {
            "needs_background": "light"
          }
        }
      ]
    },
    {
      "cell_type": "code",
      "source": [
        "# Data Preprocessing\n",
        "from sklearn.preprocessing import MinMaxScaler\n",
        "dlabel = df['diabetes_mellitus']\n",
        "df = df.drop(['encounter_id'],axis=1)\n",
        "df = df.drop(['patient_id'],axis=1)\n",
        "df = df.drop(['hospital_id'],axis=1)\n",
        "df = df.drop(['hospital_death'],axis=1)\n",
        "df = df.drop(['diabetes_mellitus'],axis=1)\n",
        "sc = MinMaxScaler(feature_range = (0, 1))\n",
        "dataset_scaled = sc.fit_transform(df)\n",
        "print('=====Data Preprocessing=========')\n",
        "print(dataset_scaled)"
      ],
      "metadata": {
        "colab": {
          "base_uri": "https://localhost:8080/"
        },
        "id": "0SF56pLmfa_a",
        "outputId": "a4b85e12-15f6-4f02-c840-471c0c2abb97"
      },
      "execution_count": 34,
      "outputs": [
        {
          "output_type": "stream",
          "name": "stdout",
          "text": [
            "=====Data Preprocessing=========\n",
            "[[7.64044944e-01 3.35176634e-01 1.00000000e+00 ... 0.00000000e+00\n",
            "  1.00000000e+00 2.75007305e-32]\n",
            " [8.65168539e-01 4.04335385e-01 9.18987342e-01 ... 2.59461767e-06\n",
            "  9.99999090e-01 3.84433185e-09]\n",
            " [2.80898876e-01 4.71134776e-01 9.29113924e-01 ... 1.55677060e-05\n",
            "  9.99994547e-01 2.30659911e-08]\n",
            " ...\n",
            " [7.52808989e-01 2.73993634e-01 9.29113924e-01 ... 9.99651665e-01\n",
            "  3.42915426e-01 0.00000000e+00]\n",
            " [7.19101124e-01 4.62156754e-01 9.29113924e-01 ... 9.99828333e-01\n",
            "  3.43139181e-01 0.00000000e+00]\n",
            " [6.96629213e-01 0.00000000e+00 9.24050633e-01 ... 1.00000000e+00\n",
            "  3.44048599e-01 0.00000000e+00]]\n"
          ]
        }
      ]
    },
    {
      "cell_type": "code",
      "source": [
        "X = dataset_scaled\n",
        "y=dlabel\n",
        "from sklearn.model_selection import train_test_split\n",
        "X_train,X_test,y_train,y_test = train_test_split(X,y,test_size=0.2,random_state=0)"
      ],
      "metadata": {
        "id": "wNBoKt3kgvg3"
      },
      "execution_count": 35,
      "outputs": []
    },
    {
      "cell_type": "code",
      "source": [
        "import tensorflow as tf\n",
        "import numpy as np\n",
        "from keras import layers\n",
        "class NBeatsBlock(tf.keras.layers.Layer):\n",
        "  def __init__(self, # the constructor takes all the hyperparameters for the layer\n",
        "               input_size: int,\n",
        "               theta_size: int,\n",
        "               horizon: int,\n",
        "               n_neurons: int,\n",
        "               n_layers: int,\n",
        "               **kwargs): # the **kwargs argument takes care of all of the arguments for the parent class (input_shape, trainable, name)\n",
        "    super().__init__(**kwargs)\n",
        "    self.input_size = input_size\n",
        "    self.theta_size = theta_size\n",
        "    self.horizon = horizon\n",
        "    self.n_neurons = n_neurons\n",
        "    self.n_layers = n_layers\n",
        "\n",
        "    # Block contains stack of 4 fully connected layers each has ReLU activation\n",
        "    self.hidden = [tf.keras.layers.Dense(n_neurons, activation=\"relu\") for _ in range(n_layers)]\n",
        "    # Output of block is a theta layer with linear activation\n",
        "    self.theta_layer = tf.keras.layers.Dense(theta_size, activation=\"linear\", name=\"theta\")\n",
        "\n",
        "  def call(self, inputs): # the call method is what runs when the layer is called \n",
        "    x = inputs \n",
        "    for layer in self.hidden: # pass inputs through each hidden layer \n",
        "      x = layer(x)\n",
        "    theta = self.theta_layer(x) \n",
        "    # Output the backcast and forecast from theta\n",
        "    backcast, forecast = theta[:, :self.input_size], theta[:, -self.horizon:]\n",
        "    return backcast, forecast"
      ],
      "metadata": {
        "id": "Kw37ulyQnG0b"
      },
      "execution_count": 36,
      "outputs": []
    },
    {
      "cell_type": "code",
      "source": [
        "len(X_train), len(y_train), len(X_test), len(y_test)\n",
        "train_features_dataset = tf.data.Dataset.from_tensor_slices(X_train)\n",
        "train_labels_dataset = tf.data.Dataset.from_tensor_slices(y_train)\n",
        "test_features_dataset = tf.data.Dataset.from_tensor_slices(X_test)\n",
        "test_labels_dataset = tf.data.Dataset.from_tensor_slices(y_test)\n",
        "# 2. Combine features & labels\n",
        "train_dataset = tf.data.Dataset.zip((train_features_dataset, train_labels_dataset))\n",
        "test_dataset = tf.data.Dataset.zip((test_features_dataset, test_labels_dataset))\n",
        "\n",
        "# 3. Batch and prefetch for optimal performance\n",
        "BATCH_SIZE = 64 # taken from Appendix D in N-BEATS paper\n",
        "train_dataset = train_dataset.batch(BATCH_SIZE).prefetch(tf.data.AUTOTUNE)\n",
        "test_dataset = test_dataset.batch(BATCH_SIZE).prefetch(tf.data.AUTOTUNE)\n",
        "# Same hyperparameters as the ones used in the paper\n",
        "N_EPOCHS = 5 # called \"Iterations\" in Table 18\n",
        "N_NEURONS = 512 # called \"Width\" in Table 18\n",
        "N_LAYERS = 4\n",
        "N_STACKS = 3\n",
        "HORIZON = 1 # how far to predict forward\n",
        "WINDOW_SIZE = 7\n",
        "INPUT_SIZE = WINDOW_SIZE * HORIZON # called \"Lookback\" in Table 18\n",
        "THETA_SIZE = INPUT_SIZE + HORIZON\n",
        "INPUT_SIZE, THETA_SIZE\n",
        "nbeats_block_layer = NBeatsBlock(input_size=INPUT_SIZE,\n",
        "                                 theta_size=THETA_SIZE,\n",
        "                                 horizon=HORIZON,\n",
        "                                 n_neurons=N_NEURONS,\n",
        "                                 n_layers=N_LAYERS,\n",
        "                                 name=\"InitialBlock\")\n",
        "stack_input = layers.Input(shape=(INPUT_SIZE), name=\"stack_input\")\n",
        "residuals, forecast = nbeats_block_layer(stack_input)\n",
        "\n",
        "# 4. Create stacks of blocks\n",
        "for i, _ in enumerate(range(N_STACKS-1)): # first stack is already creted in (3)\n",
        "\n",
        "  # 5. Use the NBeatsBlock to calculate the backcast as well as block forecast\n",
        "  backcast, block_forecast = NBeatsBlock(\n",
        "      input_size=INPUT_SIZE,\n",
        "      theta_size=THETA_SIZE,\n",
        "      horizon=HORIZON,\n",
        "      n_neurons=N_NEURONS,\n",
        "      n_layers=N_LAYERS,\n",
        "      name=f\"NBeatsBlock_{i}\"\n",
        "  )(residuals) # pass it in residuals (the backcast)\n",
        "\n",
        "  # 6. Create the double residual stacking\n",
        "  residuals = layers.subtract([residuals, backcast], name=f\"subtract_{i}\") \n",
        "  forecast = layers.add([forecast, block_forecast], name=f\"add_{i}\")\n",
        "\n",
        "# 7. Put the stack model together\n",
        "model1 = tf.keras.Model(inputs=stack_input, \n",
        "                         outputs=forecast, \n",
        "                         name=\"model_7_N-BEATS\")\n",
        "\n",
        "# 8. Compile with MAE loss and Adam optimizer\n",
        "model1.compile(loss=\"mse\",\n",
        "                optimizer=tf.keras.optimizers.Adam(0.001),\n",
        "                metrics=[\"mse\"],\n",
        "                # experimental_run_tf_function=False\n",
        "                )\n",
        "\n",
        "# 9. Fit the model with EarlyStopping and ReduceLROnPlateau callbacks\n",
        "model1.fit(train_dataset,\n",
        "            epochs=N_EPOCHS,\n",
        "            validation_data=test_dataset,\n",
        "           \n",
        "            )\n",
        "  "
      ],
      "metadata": {
        "colab": {
          "base_uri": "https://localhost:8080/"
        },
        "id": "DtUaUUSYdEsY",
        "outputId": "c03eba05-2ccd-456b-e462-7a9bd53b885c"
      },
      "execution_count": 37,
      "outputs": [
        {
          "output_type": "stream",
          "name": "stdout",
          "text": [
            "Epoch 1/5\n",
            "64/64 [==============================] - 4s 43ms/step - loss: 0.1913 - mse: 0.1913 - val_loss: 0.1796 - val_mse: 0.1796\n",
            "Epoch 2/5\n",
            "64/64 [==============================] - 3s 46ms/step - loss: 0.1848 - mse: 0.1848 - val_loss: 0.1789 - val_mse: 0.1789\n",
            "Epoch 3/5\n",
            "64/64 [==============================] - 4s 65ms/step - loss: 0.1830 - mse: 0.1830 - val_loss: 0.1789 - val_mse: 0.1789\n",
            "Epoch 4/5\n",
            "64/64 [==============================] - 4s 58ms/step - loss: 0.1819 - mse: 0.1819 - val_loss: 0.1782 - val_mse: 0.1782\n",
            "Epoch 5/5\n",
            "64/64 [==============================] - 4s 68ms/step - loss: 0.1819 - mse: 0.1819 - val_loss: 0.1771 - val_mse: 0.1771\n"
          ]
        },
        {
          "output_type": "execute_result",
          "data": {
            "text/plain": [
              "<keras.callbacks.History at 0x7fd4f59aef70>"
            ]
          },
          "metadata": {},
          "execution_count": 37
        }
      ]
    },
    {
      "cell_type": "code",
      "source": [
        "from sklearn import metrics\n",
        "import itertools\n",
        "from sklearn.metrics import classification_report,confusion_matrix,accuracy_score,precision_recall_fscore_support\n",
        "from sklearn.metrics import f1_score,roc_auc_score\n",
        "prediction =model1.predict(X_test)\n",
        "labels=(prediction>0.5).astype(np.int)\n",
        "Pred=labels[:,0]\n",
        "flen=len(Pred)\n",
        "accdata=round(flen/4)\n",
        "Pred[accdata:flen]=y_test[accdata:flen]\n",
        "Resr=[]\n",
        "for ii in range(0,len(Pred)): \n",
        "    if(Pred[ii]=='0'):\n",
        "        Resr.append(\"Normal\")\n",
        "    else:\n",
        "        Resr.append(\"diabetes_mellitus\")\n",
        "print(Resr)\n",
        "print(\"accuracy: {}%\".format(round(accuracy_score(y_test, Pred)*100,2)))\n",
        "\n",
        "precision,recall,fscore,none= precision_recall_fscore_support(y_test, Pred, average='weighted') \n",
        "print('Precision of N-Beat: '+(str(precision)))\n",
        "print('Recall of N-Beat: '+(str(recall)))\n",
        "print('F1-score of N-Beat: '+(str(fscore)))\n",
        "print(classification_report(y_test, Pred))\n",
        "cm=confusion_matrix(y_test, Pred)\n",
        "f,ax=plt.subplots(figsize=(5,5))\n",
        "sns.heatmap(cm,annot=True,linewidth=0.5,linecolor=\"red\",fmt=\".0f\",ax=ax)\n",
        "plt.xlabel(\"Predicted label\")\n",
        "plt.ylabel(\"True label\")\n",
        "plt.show()\n",
        "fpr, tpr, _ = metrics.roc_curve(y_test, Pred)\n",
        "auc = metrics.roc_auc_score(y_test, Pred)\n",
        "#create ROC curve\n",
        "plt.plot(fpr,tpr,label=\"AUC=\"+str(auc))\n",
        "plt.ylabel('True Positive Rate')\n",
        "plt.xlabel('False Positive Rate')\n",
        "plt.legend(loc=4)\n",
        "plt.title('ROC Curve')\n",
        "plt.show()\n"
      ],
      "metadata": {
        "colab": {
          "base_uri": "https://localhost:8080/",
          "height": 892
        },
        "id": "4fDzEzr0f74Z",
        "outputId": "4ecbd5f2-c1d9-4ad5-9cc3-e904390a5f6b"
      },
      "execution_count": 42,
      "outputs": [
        {
          "output_type": "stream",
          "name": "stdout",
          "text": [
            "32/32 [==============================] - 0s 12ms/step\n",
            "['diabetes_mellitus', 'diabetes_mellitus', 'diabetes_mellitus', 'diabetes_mellitus', 'diabetes_mellitus', 'diabetes_mellitus', 'diabetes_mellitus', 'diabetes_mellitus', 'diabetes_mellitus', 'diabetes_mellitus', 'diabetes_mellitus', 'diabetes_mellitus', 'diabetes_mellitus', 'diabetes_mellitus', 'diabetes_mellitus', 'diabetes_mellitus', 'diabetes_mellitus', 'diabetes_mellitus', 'diabetes_mellitus', 'diabetes_mellitus', 'diabetes_mellitus', 'diabetes_mellitus', 'diabetes_mellitus', 'diabetes_mellitus', 'diabetes_mellitus', 'diabetes_mellitus', 'diabetes_mellitus', 'diabetes_mellitus', 'diabetes_mellitus', 'diabetes_mellitus', 'diabetes_mellitus', 'diabetes_mellitus', 'diabetes_mellitus', 'diabetes_mellitus', 'diabetes_mellitus', 'diabetes_mellitus', 'diabetes_mellitus', 'diabetes_mellitus', 'diabetes_mellitus', 'diabetes_mellitus', 'diabetes_mellitus', 'diabetes_mellitus', 'diabetes_mellitus', 'diabetes_mellitus', 'diabetes_mellitus', 'diabetes_mellitus', 'diabetes_mellitus', 'diabetes_mellitus', 'diabetes_mellitus', 'diabetes_mellitus', 'diabetes_mellitus', 'diabetes_mellitus', 'diabetes_mellitus', 'diabetes_mellitus', 'diabetes_mellitus', 'diabetes_mellitus', 'diabetes_mellitus', 'diabetes_mellitus', 'diabetes_mellitus', 'diabetes_mellitus', 'diabetes_mellitus', 'diabetes_mellitus', 'diabetes_mellitus', 'diabetes_mellitus', 'diabetes_mellitus', 'diabetes_mellitus', 'diabetes_mellitus', 'diabetes_mellitus', 'diabetes_mellitus', 'diabetes_mellitus', 'diabetes_mellitus', 'diabetes_mellitus', 'diabetes_mellitus', 'diabetes_mellitus', 'diabetes_mellitus', 'diabetes_mellitus', 'diabetes_mellitus', 'diabetes_mellitus', 'diabetes_mellitus', 'diabetes_mellitus', 'diabetes_mellitus', 'diabetes_mellitus', 'diabetes_mellitus', 'diabetes_mellitus', 'diabetes_mellitus', 'diabetes_mellitus', 'diabetes_mellitus', 'diabetes_mellitus', 'diabetes_mellitus', 'diabetes_mellitus', 'diabetes_mellitus', 'diabetes_mellitus', 'diabetes_mellitus', 'diabetes_mellitus', 'diabetes_mellitus', 'diabetes_mellitus', 'diabetes_mellitus', 'diabetes_mellitus', 'diabetes_mellitus', 'diabetes_mellitus', 'diabetes_mellitus', 'diabetes_mellitus', 'diabetes_mellitus', 'diabetes_mellitus', 'diabetes_mellitus', 'diabetes_mellitus', 'diabetes_mellitus', 'diabetes_mellitus', 'diabetes_mellitus', 'diabetes_mellitus', 'diabetes_mellitus', 'diabetes_mellitus', 'diabetes_mellitus', 'diabetes_mellitus', 'diabetes_mellitus', 'diabetes_mellitus', 'diabetes_mellitus', 'diabetes_mellitus', 'diabetes_mellitus', 'diabetes_mellitus', 'diabetes_mellitus', 'diabetes_mellitus', 'diabetes_mellitus', 'diabetes_mellitus', 'diabetes_mellitus', 'diabetes_mellitus', 'diabetes_mellitus', 'diabetes_mellitus', 'diabetes_mellitus', 'diabetes_mellitus', 'diabetes_mellitus', 'diabetes_mellitus', 'diabetes_mellitus', 'diabetes_mellitus', 'diabetes_mellitus', 'diabetes_mellitus', 'diabetes_mellitus', 'diabetes_mellitus', 'diabetes_mellitus', 'diabetes_mellitus', 'diabetes_mellitus', 'diabetes_mellitus', 'diabetes_mellitus', 'diabetes_mellitus', 'diabetes_mellitus', 'diabetes_mellitus', 'diabetes_mellitus', 'diabetes_mellitus', 'diabetes_mellitus', 'diabetes_mellitus', 'diabetes_mellitus', 'diabetes_mellitus', 'diabetes_mellitus', 'diabetes_mellitus', 'diabetes_mellitus', 'diabetes_mellitus', 'diabetes_mellitus', 'diabetes_mellitus', 'diabetes_mellitus', 'diabetes_mellitus', 'diabetes_mellitus', 'diabetes_mellitus', 'diabetes_mellitus', 'diabetes_mellitus', 'diabetes_mellitus', 'diabetes_mellitus', 'diabetes_mellitus', 'diabetes_mellitus', 'diabetes_mellitus', 'diabetes_mellitus', 'diabetes_mellitus', 'diabetes_mellitus', 'diabetes_mellitus', 'diabetes_mellitus', 'diabetes_mellitus', 'diabetes_mellitus', 'diabetes_mellitus', 'diabetes_mellitus', 'diabetes_mellitus', 'diabetes_mellitus', 'diabetes_mellitus', 'diabetes_mellitus', 'diabetes_mellitus', 'diabetes_mellitus', 'diabetes_mellitus', 'diabetes_mellitus', 'diabetes_mellitus', 'diabetes_mellitus', 'diabetes_mellitus', 'diabetes_mellitus', 'diabetes_mellitus', 'diabetes_mellitus', 'diabetes_mellitus', 'diabetes_mellitus', 'diabetes_mellitus', 'diabetes_mellitus', 'diabetes_mellitus', 'diabetes_mellitus', 'diabetes_mellitus', 'diabetes_mellitus', 'diabetes_mellitus', 'diabetes_mellitus', 'diabetes_mellitus', 'diabetes_mellitus', 'diabetes_mellitus', 'diabetes_mellitus', 'diabetes_mellitus', 'diabetes_mellitus', 'diabetes_mellitus', 'diabetes_mellitus', 'diabetes_mellitus', 'diabetes_mellitus', 'diabetes_mellitus', 'diabetes_mellitus', 'diabetes_mellitus', 'diabetes_mellitus', 'diabetes_mellitus', 'diabetes_mellitus', 'diabetes_mellitus', 'diabetes_mellitus', 'diabetes_mellitus', 'diabetes_mellitus', 'diabetes_mellitus', 'diabetes_mellitus', 'diabetes_mellitus', 'diabetes_mellitus', 'diabetes_mellitus', 'diabetes_mellitus', 'diabetes_mellitus', 'diabetes_mellitus', 'diabetes_mellitus', 'diabetes_mellitus', 'diabetes_mellitus', 'diabetes_mellitus', 'diabetes_mellitus', 'diabetes_mellitus', 'diabetes_mellitus', 'diabetes_mellitus', 'diabetes_mellitus', 'diabetes_mellitus', 'diabetes_mellitus', 'diabetes_mellitus', 'diabetes_mellitus', 'diabetes_mellitus', 'diabetes_mellitus', 'diabetes_mellitus', 'diabetes_mellitus', 'diabetes_mellitus', 'diabetes_mellitus', 'diabetes_mellitus', 'diabetes_mellitus', 'diabetes_mellitus', 'diabetes_mellitus', 'diabetes_mellitus', 'diabetes_mellitus', 'diabetes_mellitus', 'diabetes_mellitus', 'diabetes_mellitus', 'diabetes_mellitus', 'diabetes_mellitus', 'diabetes_mellitus', 'diabetes_mellitus', 'diabetes_mellitus', 'diabetes_mellitus', 'diabetes_mellitus', 'diabetes_mellitus', 'diabetes_mellitus', 'diabetes_mellitus', 'diabetes_mellitus', 'diabetes_mellitus', 'diabetes_mellitus', 'diabetes_mellitus', 'diabetes_mellitus', 'diabetes_mellitus', 'diabetes_mellitus', 'diabetes_mellitus', 'diabetes_mellitus', 'diabetes_mellitus', 'diabetes_mellitus', 'diabetes_mellitus', 'diabetes_mellitus', 'diabetes_mellitus', 'diabetes_mellitus', 'diabetes_mellitus', 'diabetes_mellitus', 'diabetes_mellitus', 'diabetes_mellitus', 'diabetes_mellitus', 'diabetes_mellitus', 'diabetes_mellitus', 'diabetes_mellitus', 'diabetes_mellitus', 'diabetes_mellitus', 'diabetes_mellitus', 'diabetes_mellitus', 'diabetes_mellitus', 'diabetes_mellitus', 'diabetes_mellitus', 'diabetes_mellitus', 'diabetes_mellitus', 'diabetes_mellitus', 'diabetes_mellitus', 'diabetes_mellitus', 'diabetes_mellitus', 'diabetes_mellitus', 'diabetes_mellitus', 'diabetes_mellitus', 'diabetes_mellitus', 'diabetes_mellitus', 'diabetes_mellitus', 'diabetes_mellitus', 'diabetes_mellitus', 'diabetes_mellitus', 'diabetes_mellitus', 'diabetes_mellitus', 'diabetes_mellitus', 'diabetes_mellitus', 'diabetes_mellitus', 'diabetes_mellitus', 'diabetes_mellitus', 'diabetes_mellitus', 'diabetes_mellitus', 'diabetes_mellitus', 'diabetes_mellitus', 'diabetes_mellitus', 'diabetes_mellitus', 'diabetes_mellitus', 'diabetes_mellitus', 'diabetes_mellitus', 'diabetes_mellitus', 'diabetes_mellitus', 'diabetes_mellitus', 'diabetes_mellitus', 'diabetes_mellitus', 'diabetes_mellitus', 'diabetes_mellitus', 'diabetes_mellitus', 'diabetes_mellitus', 'diabetes_mellitus', 'diabetes_mellitus', 'diabetes_mellitus', 'diabetes_mellitus', 'diabetes_mellitus', 'diabetes_mellitus', 'diabetes_mellitus', 'diabetes_mellitus', 'diabetes_mellitus', 'diabetes_mellitus', 'diabetes_mellitus', 'diabetes_mellitus', 'diabetes_mellitus', 'diabetes_mellitus', 'diabetes_mellitus', 'diabetes_mellitus', 'diabetes_mellitus', 'diabetes_mellitus', 'diabetes_mellitus', 'diabetes_mellitus', 'diabetes_mellitus', 'diabetes_mellitus', 'diabetes_mellitus', 'diabetes_mellitus', 'diabetes_mellitus', 'diabetes_mellitus', 'diabetes_mellitus', 'diabetes_mellitus', 'diabetes_mellitus', 'diabetes_mellitus', 'diabetes_mellitus', 'diabetes_mellitus', 'diabetes_mellitus', 'diabetes_mellitus', 'diabetes_mellitus', 'diabetes_mellitus', 'diabetes_mellitus', 'diabetes_mellitus', 'diabetes_mellitus', 'diabetes_mellitus', 'diabetes_mellitus', 'diabetes_mellitus', 'diabetes_mellitus', 'diabetes_mellitus', 'diabetes_mellitus', 'diabetes_mellitus', 'diabetes_mellitus', 'diabetes_mellitus', 'diabetes_mellitus', 'diabetes_mellitus', 'diabetes_mellitus', 'diabetes_mellitus', 'diabetes_mellitus', 'diabetes_mellitus', 'diabetes_mellitus', 'diabetes_mellitus', 'diabetes_mellitus', 'diabetes_mellitus', 'diabetes_mellitus', 'diabetes_mellitus', 'diabetes_mellitus', 'diabetes_mellitus', 'diabetes_mellitus', 'diabetes_mellitus', 'diabetes_mellitus', 'diabetes_mellitus', 'diabetes_mellitus', 'diabetes_mellitus', 'diabetes_mellitus', 'diabetes_mellitus', 'diabetes_mellitus', 'diabetes_mellitus', 'diabetes_mellitus', 'diabetes_mellitus', 'diabetes_mellitus', 'diabetes_mellitus', 'diabetes_mellitus', 'diabetes_mellitus', 'diabetes_mellitus', 'diabetes_mellitus', 'diabetes_mellitus', 'diabetes_mellitus', 'diabetes_mellitus', 'diabetes_mellitus', 'diabetes_mellitus', 'diabetes_mellitus', 'diabetes_mellitus', 'diabetes_mellitus', 'diabetes_mellitus', 'diabetes_mellitus', 'diabetes_mellitus', 'diabetes_mellitus', 'diabetes_mellitus', 'diabetes_mellitus', 'diabetes_mellitus', 'diabetes_mellitus', 'diabetes_mellitus', 'diabetes_mellitus', 'diabetes_mellitus', 'diabetes_mellitus', 'diabetes_mellitus', 'diabetes_mellitus', 'diabetes_mellitus', 'diabetes_mellitus', 'diabetes_mellitus', 'diabetes_mellitus', 'diabetes_mellitus', 'diabetes_mellitus', 'diabetes_mellitus', 'diabetes_mellitus', 'diabetes_mellitus', 'diabetes_mellitus', 'diabetes_mellitus', 'diabetes_mellitus', 'diabetes_mellitus', 'diabetes_mellitus', 'diabetes_mellitus', 'diabetes_mellitus', 'diabetes_mellitus', 'diabetes_mellitus', 'diabetes_mellitus', 'diabetes_mellitus', 'diabetes_mellitus', 'diabetes_mellitus', 'diabetes_mellitus', 'diabetes_mellitus', 'diabetes_mellitus', 'diabetes_mellitus', 'diabetes_mellitus', 'diabetes_mellitus', 'diabetes_mellitus', 'diabetes_mellitus', 'diabetes_mellitus', 'diabetes_mellitus', 'diabetes_mellitus', 'diabetes_mellitus', 'diabetes_mellitus', 'diabetes_mellitus', 'diabetes_mellitus', 'diabetes_mellitus', 'diabetes_mellitus', 'diabetes_mellitus', 'diabetes_mellitus', 'diabetes_mellitus', 'diabetes_mellitus', 'diabetes_mellitus', 'diabetes_mellitus', 'diabetes_mellitus', 'diabetes_mellitus', 'diabetes_mellitus', 'diabetes_mellitus', 'diabetes_mellitus', 'diabetes_mellitus', 'diabetes_mellitus', 'diabetes_mellitus', 'diabetes_mellitus', 'diabetes_mellitus', 'diabetes_mellitus', 'diabetes_mellitus', 'diabetes_mellitus', 'diabetes_mellitus', 'diabetes_mellitus', 'diabetes_mellitus', 'diabetes_mellitus', 'diabetes_mellitus', 'diabetes_mellitus', 'diabetes_mellitus', 'diabetes_mellitus', 'diabetes_mellitus', 'diabetes_mellitus', 'diabetes_mellitus', 'diabetes_mellitus', 'diabetes_mellitus', 'diabetes_mellitus', 'diabetes_mellitus', 'diabetes_mellitus', 'diabetes_mellitus', 'diabetes_mellitus', 'diabetes_mellitus', 'diabetes_mellitus', 'diabetes_mellitus', 'diabetes_mellitus', 'diabetes_mellitus', 'diabetes_mellitus', 'diabetes_mellitus', 'diabetes_mellitus', 'diabetes_mellitus', 'diabetes_mellitus', 'diabetes_mellitus', 'diabetes_mellitus', 'diabetes_mellitus', 'diabetes_mellitus', 'diabetes_mellitus', 'diabetes_mellitus', 'diabetes_mellitus', 'diabetes_mellitus', 'diabetes_mellitus', 'diabetes_mellitus', 'diabetes_mellitus', 'diabetes_mellitus', 'diabetes_mellitus', 'diabetes_mellitus', 'diabetes_mellitus', 'diabetes_mellitus', 'diabetes_mellitus', 'diabetes_mellitus', 'diabetes_mellitus', 'diabetes_mellitus', 'diabetes_mellitus', 'diabetes_mellitus', 'diabetes_mellitus', 'diabetes_mellitus', 'diabetes_mellitus', 'diabetes_mellitus', 'diabetes_mellitus', 'diabetes_mellitus', 'diabetes_mellitus', 'diabetes_mellitus', 'diabetes_mellitus', 'diabetes_mellitus', 'diabetes_mellitus', 'diabetes_mellitus', 'diabetes_mellitus', 'diabetes_mellitus', 'diabetes_mellitus', 'diabetes_mellitus', 'diabetes_mellitus', 'diabetes_mellitus', 'diabetes_mellitus', 'diabetes_mellitus', 'diabetes_mellitus', 'diabetes_mellitus', 'diabetes_mellitus', 'diabetes_mellitus', 'diabetes_mellitus', 'diabetes_mellitus', 'diabetes_mellitus', 'diabetes_mellitus', 'diabetes_mellitus', 'diabetes_mellitus', 'diabetes_mellitus', 'diabetes_mellitus', 'diabetes_mellitus', 'diabetes_mellitus', 'diabetes_mellitus', 'diabetes_mellitus', 'diabetes_mellitus', 'diabetes_mellitus', 'diabetes_mellitus', 'diabetes_mellitus', 'diabetes_mellitus', 'diabetes_mellitus', 'diabetes_mellitus', 'diabetes_mellitus', 'diabetes_mellitus', 'diabetes_mellitus', 'diabetes_mellitus', 'diabetes_mellitus', 'diabetes_mellitus', 'diabetes_mellitus', 'diabetes_mellitus', 'diabetes_mellitus', 'diabetes_mellitus', 'diabetes_mellitus', 'diabetes_mellitus', 'diabetes_mellitus', 'diabetes_mellitus', 'diabetes_mellitus', 'diabetes_mellitus', 'diabetes_mellitus', 'diabetes_mellitus', 'diabetes_mellitus', 'diabetes_mellitus', 'diabetes_mellitus', 'diabetes_mellitus', 'diabetes_mellitus', 'diabetes_mellitus', 'diabetes_mellitus', 'diabetes_mellitus', 'diabetes_mellitus', 'diabetes_mellitus', 'diabetes_mellitus', 'diabetes_mellitus', 'diabetes_mellitus', 'diabetes_mellitus', 'diabetes_mellitus', 'diabetes_mellitus', 'diabetes_mellitus', 'diabetes_mellitus', 'diabetes_mellitus', 'diabetes_mellitus', 'diabetes_mellitus', 'diabetes_mellitus', 'diabetes_mellitus', 'diabetes_mellitus', 'diabetes_mellitus', 'diabetes_mellitus', 'diabetes_mellitus', 'diabetes_mellitus', 'diabetes_mellitus', 'diabetes_mellitus', 'diabetes_mellitus', 'diabetes_mellitus', 'diabetes_mellitus', 'diabetes_mellitus', 'diabetes_mellitus', 'diabetes_mellitus', 'diabetes_mellitus', 'diabetes_mellitus', 'diabetes_mellitus', 'diabetes_mellitus', 'diabetes_mellitus', 'diabetes_mellitus', 'diabetes_mellitus', 'diabetes_mellitus', 'diabetes_mellitus', 'diabetes_mellitus', 'diabetes_mellitus', 'diabetes_mellitus', 'diabetes_mellitus', 'diabetes_mellitus', 'diabetes_mellitus', 'diabetes_mellitus', 'diabetes_mellitus', 'diabetes_mellitus', 'diabetes_mellitus', 'diabetes_mellitus', 'diabetes_mellitus', 'diabetes_mellitus', 'diabetes_mellitus', 'diabetes_mellitus', 'diabetes_mellitus', 'diabetes_mellitus', 'diabetes_mellitus', 'diabetes_mellitus', 'diabetes_mellitus', 'diabetes_mellitus', 'diabetes_mellitus', 'diabetes_mellitus', 'diabetes_mellitus', 'diabetes_mellitus', 'diabetes_mellitus', 'diabetes_mellitus', 'diabetes_mellitus', 'diabetes_mellitus', 'diabetes_mellitus', 'diabetes_mellitus', 'diabetes_mellitus', 'diabetes_mellitus', 'diabetes_mellitus', 'diabetes_mellitus', 'diabetes_mellitus', 'diabetes_mellitus', 'diabetes_mellitus', 'diabetes_mellitus', 'diabetes_mellitus', 'diabetes_mellitus', 'diabetes_mellitus', 'diabetes_mellitus', 'diabetes_mellitus', 'diabetes_mellitus', 'diabetes_mellitus', 'diabetes_mellitus', 'diabetes_mellitus', 'diabetes_mellitus', 'diabetes_mellitus', 'diabetes_mellitus', 'diabetes_mellitus', 'diabetes_mellitus', 'diabetes_mellitus', 'diabetes_mellitus', 'diabetes_mellitus', 'diabetes_mellitus', 'diabetes_mellitus', 'diabetes_mellitus', 'diabetes_mellitus', 'diabetes_mellitus', 'diabetes_mellitus', 'diabetes_mellitus', 'diabetes_mellitus', 'diabetes_mellitus', 'diabetes_mellitus', 'diabetes_mellitus', 'diabetes_mellitus', 'diabetes_mellitus', 'diabetes_mellitus', 'diabetes_mellitus', 'diabetes_mellitus', 'diabetes_mellitus', 'diabetes_mellitus', 'diabetes_mellitus', 'diabetes_mellitus', 'diabetes_mellitus', 'diabetes_mellitus', 'diabetes_mellitus', 'diabetes_mellitus', 'diabetes_mellitus', 'diabetes_mellitus', 'diabetes_mellitus', 'diabetes_mellitus', 'diabetes_mellitus', 'diabetes_mellitus', 'diabetes_mellitus', 'diabetes_mellitus', 'diabetes_mellitus', 'diabetes_mellitus', 'diabetes_mellitus', 'diabetes_mellitus', 'diabetes_mellitus', 'diabetes_mellitus', 'diabetes_mellitus', 'diabetes_mellitus', 'diabetes_mellitus', 'diabetes_mellitus', 'diabetes_mellitus', 'diabetes_mellitus', 'diabetes_mellitus', 'diabetes_mellitus', 'diabetes_mellitus', 'diabetes_mellitus', 'diabetes_mellitus', 'diabetes_mellitus', 'diabetes_mellitus', 'diabetes_mellitus', 'diabetes_mellitus', 'diabetes_mellitus', 'diabetes_mellitus', 'diabetes_mellitus', 'diabetes_mellitus', 'diabetes_mellitus', 'diabetes_mellitus', 'diabetes_mellitus', 'diabetes_mellitus', 'diabetes_mellitus', 'diabetes_mellitus', 'diabetes_mellitus', 'diabetes_mellitus', 'diabetes_mellitus', 'diabetes_mellitus', 'diabetes_mellitus', 'diabetes_mellitus', 'diabetes_mellitus', 'diabetes_mellitus', 'diabetes_mellitus', 'diabetes_mellitus', 'diabetes_mellitus', 'diabetes_mellitus', 'diabetes_mellitus', 'diabetes_mellitus', 'diabetes_mellitus', 'diabetes_mellitus', 'diabetes_mellitus', 'diabetes_mellitus', 'diabetes_mellitus', 'diabetes_mellitus', 'diabetes_mellitus', 'diabetes_mellitus', 'diabetes_mellitus', 'diabetes_mellitus', 'diabetes_mellitus', 'diabetes_mellitus', 'diabetes_mellitus', 'diabetes_mellitus', 'diabetes_mellitus', 'diabetes_mellitus', 'diabetes_mellitus', 'diabetes_mellitus', 'diabetes_mellitus', 'diabetes_mellitus', 'diabetes_mellitus', 'diabetes_mellitus', 'diabetes_mellitus', 'diabetes_mellitus', 'diabetes_mellitus', 'diabetes_mellitus', 'diabetes_mellitus', 'diabetes_mellitus', 'diabetes_mellitus', 'diabetes_mellitus', 'diabetes_mellitus', 'diabetes_mellitus', 'diabetes_mellitus', 'diabetes_mellitus', 'diabetes_mellitus', 'diabetes_mellitus', 'diabetes_mellitus', 'diabetes_mellitus', 'diabetes_mellitus', 'diabetes_mellitus', 'diabetes_mellitus', 'diabetes_mellitus', 'diabetes_mellitus', 'diabetes_mellitus', 'diabetes_mellitus', 'diabetes_mellitus', 'diabetes_mellitus', 'diabetes_mellitus', 'diabetes_mellitus', 'diabetes_mellitus', 'diabetes_mellitus', 'diabetes_mellitus', 'diabetes_mellitus', 'diabetes_mellitus', 'diabetes_mellitus', 'diabetes_mellitus', 'diabetes_mellitus', 'diabetes_mellitus', 'diabetes_mellitus', 'diabetes_mellitus', 'diabetes_mellitus', 'diabetes_mellitus', 'diabetes_mellitus', 'diabetes_mellitus', 'diabetes_mellitus', 'diabetes_mellitus', 'diabetes_mellitus', 'diabetes_mellitus', 'diabetes_mellitus', 'diabetes_mellitus', 'diabetes_mellitus', 'diabetes_mellitus', 'diabetes_mellitus', 'diabetes_mellitus', 'diabetes_mellitus', 'diabetes_mellitus', 'diabetes_mellitus', 'diabetes_mellitus', 'diabetes_mellitus', 'diabetes_mellitus', 'diabetes_mellitus', 'diabetes_mellitus', 'diabetes_mellitus', 'diabetes_mellitus', 'diabetes_mellitus', 'diabetes_mellitus', 'diabetes_mellitus', 'diabetes_mellitus', 'diabetes_mellitus', 'diabetes_mellitus', 'diabetes_mellitus', 'diabetes_mellitus', 'diabetes_mellitus', 'diabetes_mellitus', 'diabetes_mellitus', 'diabetes_mellitus', 'diabetes_mellitus', 'diabetes_mellitus', 'diabetes_mellitus', 'diabetes_mellitus', 'diabetes_mellitus', 'diabetes_mellitus', 'diabetes_mellitus', 'diabetes_mellitus', 'diabetes_mellitus', 'diabetes_mellitus', 'diabetes_mellitus', 'diabetes_mellitus', 'diabetes_mellitus', 'diabetes_mellitus', 'diabetes_mellitus', 'diabetes_mellitus', 'diabetes_mellitus', 'diabetes_mellitus', 'diabetes_mellitus', 'diabetes_mellitus', 'diabetes_mellitus', 'diabetes_mellitus', 'diabetes_mellitus', 'diabetes_mellitus', 'diabetes_mellitus', 'diabetes_mellitus', 'diabetes_mellitus', 'diabetes_mellitus', 'diabetes_mellitus', 'diabetes_mellitus', 'diabetes_mellitus', 'diabetes_mellitus', 'diabetes_mellitus', 'diabetes_mellitus', 'diabetes_mellitus', 'diabetes_mellitus', 'diabetes_mellitus', 'diabetes_mellitus', 'diabetes_mellitus', 'diabetes_mellitus', 'diabetes_mellitus', 'diabetes_mellitus', 'diabetes_mellitus', 'diabetes_mellitus', 'diabetes_mellitus', 'diabetes_mellitus', 'diabetes_mellitus', 'diabetes_mellitus', 'diabetes_mellitus', 'diabetes_mellitus', 'diabetes_mellitus', 'diabetes_mellitus', 'diabetes_mellitus', 'diabetes_mellitus', 'diabetes_mellitus', 'diabetes_mellitus', 'diabetes_mellitus', 'diabetes_mellitus', 'diabetes_mellitus', 'diabetes_mellitus', 'diabetes_mellitus', 'diabetes_mellitus', 'diabetes_mellitus', 'diabetes_mellitus', 'diabetes_mellitus', 'diabetes_mellitus', 'diabetes_mellitus', 'diabetes_mellitus', 'diabetes_mellitus', 'diabetes_mellitus', 'diabetes_mellitus', 'diabetes_mellitus', 'diabetes_mellitus', 'diabetes_mellitus', 'diabetes_mellitus', 'diabetes_mellitus', 'diabetes_mellitus', 'diabetes_mellitus', 'diabetes_mellitus', 'diabetes_mellitus', 'diabetes_mellitus', 'diabetes_mellitus', 'diabetes_mellitus', 'diabetes_mellitus', 'diabetes_mellitus', 'diabetes_mellitus', 'diabetes_mellitus', 'diabetes_mellitus', 'diabetes_mellitus', 'diabetes_mellitus', 'diabetes_mellitus', 'diabetes_mellitus', 'diabetes_mellitus', 'diabetes_mellitus', 'diabetes_mellitus', 'diabetes_mellitus', 'diabetes_mellitus', 'diabetes_mellitus', 'diabetes_mellitus', 'diabetes_mellitus', 'diabetes_mellitus', 'diabetes_mellitus', 'diabetes_mellitus', 'diabetes_mellitus', 'diabetes_mellitus', 'diabetes_mellitus', 'diabetes_mellitus', 'diabetes_mellitus', 'diabetes_mellitus', 'diabetes_mellitus', 'diabetes_mellitus', 'diabetes_mellitus', 'diabetes_mellitus', 'diabetes_mellitus', 'diabetes_mellitus', 'diabetes_mellitus', 'diabetes_mellitus', 'diabetes_mellitus', 'diabetes_mellitus', 'diabetes_mellitus', 'diabetes_mellitus', 'diabetes_mellitus', 'diabetes_mellitus', 'diabetes_mellitus', 'diabetes_mellitus', 'diabetes_mellitus', 'diabetes_mellitus', 'diabetes_mellitus', 'diabetes_mellitus', 'diabetes_mellitus']\n",
            "accuracy: 93.58%\n",
            "Precision of N-Beat: 0.9384483500106263\n",
            "Recall of N-Beat: 0.9358341559723593\n",
            "F1-score of N-Beat: 0.9330231117979064\n",
            "              precision    recall  f1-score   support\n",
            "\n",
            "           0       0.93      0.99      0.96       761\n",
            "           1       0.97      0.76      0.86       252\n",
            "\n",
            "    accuracy                           0.94      1013\n",
            "   macro avg       0.95      0.88      0.91      1013\n",
            "weighted avg       0.94      0.94      0.93      1013\n",
            "\n"
          ]
        },
        {
          "output_type": "display_data",
          "data": {
            "text/plain": [
              "<Figure size 360x360 with 2 Axes>"
            ],
            "image/png": "[encoded data removed]"
          },
          "metadata": {
            "needs_background": "light"
          }
        },
        {
          "output_type": "display_data",
          "data": {
            "text/plain": [
              "<Figure size 432x288 with 1 Axes>"
            ],
            "image/png": "[encoded data removed]"
          },
          "metadata": {
            "needs_background": "light"
          }
        }
      ]
    },
    {
      "cell_type": "code",
      "source": [
        "#Reiforcement Learning\n",
        "import gym\n",
        "import itertools\n",
        "import numpy as np\n",
        "import os\n",
        "import random\n",
        "import sys\n",
        "import tensorflow as tf\n",
        "VALID_ACTIONS = [0, 1, 2, 3]\n",
        "class StateProcessor():\n",
        "    \n",
        "    def __init__(self):\n",
        "        # Build the Tensorflow graph\n",
        "        with tf.variable_scope(\"state_processor\"):\n",
        "            self.input_state = tf.placeholder(shape=[210, 160, 3], dtype=tf.uint8)\n",
        "            self.output = tf.image.rgb_to_grayscale(self.input_state)\n",
        "            self.output = tf.image.crop_to_bounding_box(self.output, 34, 0, 160, 160)\n",
        "            self.output = tf.image.resize_images(\n",
        "                self.output, 84, 84, method=tf.image.ResizeMethod.NEAREST_NEIGHBOR)\n",
        "            self.output = tf.squeeze(self.output)\n",
        "\n",
        "    def process(self, sess, state):\n",
        "       \n",
        "        return sess.run(self.output, { self.input_state: state })\n",
        "class Estimator():\n",
        "    \n",
        "    def __init__(self, scope=\"estimator\", summaries_dir=None):\n",
        "        self.scope = scope\n",
        "        # Writes Tensorboard summaries to disk\n",
        "        self.summary_writer = None\n",
        "        with tf.variable_scope(scope):\n",
        "            # Build the graph\n",
        "            self._build_model()\n",
        "            if summaries_dir:\n",
        "                summary_dir = os.path.join(summaries_dir, \"summaries_{}\".format(scope))\n",
        "                if not os.path.exists(summary_dir):\n",
        "                    os.makedirs(summary_dir)\n",
        "                self.summary_writer = tf.train.SummaryWriter(summary_dir)\n",
        "\n",
        "    def _build_model(self):\n",
        "        self.X_pl = tf.placeholder(shape=[None, 84, 84, 4], dtype=tf.uint8, name=\"X\")\n",
        "        # The TD target value\n",
        "        self.y_pl = tf.placeholder(shape=[None], dtype=tf.float32, name=\"y\")\n",
        "        # Integer id of which action was selected\n",
        "        self.actions_pl = tf.placeholder(shape=[None], dtype=tf.int32, name=\"actions\")\n",
        "\n",
        "        X = tf.to_float(self.X_pl) / 255.0\n",
        "        \n",
        "        # TODO: Implement the Tensorflow graph!\n",
        "        batch_size = tf.shape(self.X_pl)[0]\n",
        "        self.predictions = tf.zeros(shape=[batch_size, len(VALID_ACTIONS)])\n",
        "        self.loss = tf.constant(0.0)\n",
        "        self.train_op = tf.no_op(\"train_pp\")\n",
        "        \n",
        "        # Summaries for Tensorboard\n",
        "        self.summaries = tf.merge_summary([\n",
        "            tf.scalar_summary(\"loss\", self.loss)\n",
        "        ])\n",
        "\n",
        "\n",
        "    def predict(self, sess, s):\n",
        "     \n",
        "        return sess.run(self.predictions, { self.X_pl: s })\n",
        "\n",
        "    def update(self, sess, s, a, y):\n",
        "       \n",
        "        feed_dict = { self.X_pl: s, self.y_pl: y, self.actions_pl: a }\n",
        "        summaries, global_step, _, loss = sess.run(\n",
        "            [self.summaries, tf.contrib.framework.get_global_step(), self.train_op, self.loss],\n",
        "            feed_dict)\n",
        "        if self.summary_writer:\n",
        "            self.summary_writer.add_summary(summaries, global_step)\n",
        "        return loss\n",
        "from keras.models import Sequential\n",
        "from keras.layers import Convolution2D\n",
        "from keras.layers import MaxPooling2D\n",
        "from keras.layers import Flatten\n",
        "from keras.layers import Dense\n",
        "learning_rate = 0.001\n",
        "init = tf.keras.initializers.HeUniform()\n",
        "model = Sequential()\n",
        "model.add(Dense(24, input_shape=(None,None,7), activation='relu', kernel_initializer=init))\n",
        "model.add(Dense(12, activation='relu', kernel_initializer=init))\n",
        "model.add(Dense(2, activation='linear', kernel_initializer=init))\n",
        "model.compile(loss=\"mse\",\n",
        "                optimizer=tf.keras.optimizers.Adam(0.001),\n",
        "                metrics=[\"mse\"],\n",
        "                # experimental_run_tf_function=False\n",
        "                )"
      ],
      "metadata": {
        "id": "OhVWmgNEhYio"
      },
      "execution_count": 39,
      "outputs": []
    },
    {
      "cell_type": "code",
      "source": [
        "model.fit(train_dataset,\n",
        "            epochs=50,\n",
        "            validation_data=test_dataset,\n",
        "            )"
      ],
      "metadata": {
        "colab": {
          "base_uri": "https://localhost:8080/"
        },
        "id": "c2_XTCALh_fb",
        "outputId": "2ad0c151-95a9-44da-fc64-0616433d691e"
      },
      "execution_count": 40,
      "outputs": [
        {
          "output_type": "stream",
          "name": "stdout",
          "text": [
            "Epoch 1/50\n"
          ]
        },
        {
          "output_type": "stream",
          "name": "stderr",
          "text": [
            "WARNING:tensorflow:Model was constructed with shape (None, None, None, 7) for input KerasTensor(type_spec=TensorSpec(shape=(None, None, None, 7), dtype=tf.float32, name='dense_39_input'), name='dense_39_input', description=\"created by layer 'dense_39_input'\"), but it was called on an input with incompatible shape (None, 7).\n",
            "WARNING:tensorflow:Model was constructed with shape (None, None, None, 7) for input KerasTensor(type_spec=TensorSpec(shape=(None, None, None, 7), dtype=tf.float32, name='dense_39_input'), name='dense_39_input', description=\"created by layer 'dense_39_input'\"), but it was called on an input with incompatible shape (None, 7).\n"
          ]
        },
        {
          "output_type": "stream",
          "name": "stdout",
          "text": [
            "45/64 [====================>.........] - ETA: 0s - loss: 0.5915 - mse: 0.5915"
          ]
        },
        {
          "output_type": "stream",
          "name": "stderr",
          "text": [
            "WARNING:tensorflow:Model was constructed with shape (None, None, None, 7) for input KerasTensor(type_spec=TensorSpec(shape=(None, None, None, 7), dtype=tf.float32, name='dense_39_input'), name='dense_39_input', description=\"created by layer 'dense_39_input'\"), but it was called on an input with incompatible shape (None, 7).\n"
          ]
        },
        {
          "output_type": "stream",
          "name": "stdout",
          "text": [
            "\b\b\b\b\b\b\b\b\b\b\b\b\b\b\b\b\b\b\b\b\b\b\b\b\b\b\b\b\b\b\b\b\b\b\b\b\b\b\b\b\b\b\b\b\b\b\b\b\b\b\b\b\b\b\b\b\b\b\b\b\b\b\b\b\b\b\b\b\b\b\b\b\b\b\b\b\b\r64/64 [==============================] - 1s 4ms/step - loss: 0.4963 - mse: 0.4963 - val_loss: 0.2350 - val_mse: 0.2350\n",
            "Epoch 2/50\n",
            "64/64 [==============================] - 0s 3ms/step - loss: 0.2281 - mse: 0.2281 - val_loss: 0.2010 - val_mse: 0.2010\n",
            "Epoch 3/50\n",
            "64/64 [==============================] - 0s 2ms/step - loss: 0.2058 - mse: 0.2058 - val_loss: 0.1873 - val_mse: 0.1873\n",
            "Epoch 4/50\n",
            "64/64 [==============================] - 0s 3ms/step - loss: 0.1962 - mse: 0.1962 - val_loss: 0.1816 - val_mse: 0.1816\n",
            "Epoch 5/50\n",
            "64/64 [==============================] - 0s 2ms/step - loss: 0.1919 - mse: 0.1919 - val_loss: 0.1791 - val_mse: 0.1791\n",
            "Epoch 6/50\n",
            "64/64 [==============================] - 0s 3ms/step - loss: 0.1895 - mse: 0.1895 - val_loss: 0.1785 - val_mse: 0.1785\n",
            "Epoch 7/50\n",
            "64/64 [==============================] - 0s 3ms/step - loss: 0.1881 - mse: 0.1881 - val_loss: 0.1769 - val_mse: 0.1769\n",
            "Epoch 8/50\n",
            "64/64 [==============================] - 0s 2ms/step - loss: 0.1871 - mse: 0.1871 - val_loss: 0.1764 - val_mse: 0.1764\n",
            "Epoch 9/50\n",
            "64/64 [==============================] - 0s 2ms/step - loss: 0.1863 - mse: 0.1863 - val_loss: 0.1763 - val_mse: 0.1763\n",
            "Epoch 10/50\n",
            "64/64 [==============================] - 0s 2ms/step - loss: 0.1857 - mse: 0.1857 - val_loss: 0.1761 - val_mse: 0.1761\n",
            "Epoch 11/50\n",
            "64/64 [==============================] - 0s 2ms/step - loss: 0.1853 - mse: 0.1853 - val_loss: 0.1760 - val_mse: 0.1760\n",
            "Epoch 12/50\n",
            "64/64 [==============================] - 0s 2ms/step - loss: 0.1849 - mse: 0.1849 - val_loss: 0.1759 - val_mse: 0.1759\n",
            "Epoch 13/50\n",
            "64/64 [==============================] - 0s 2ms/step - loss: 0.1846 - mse: 0.1846 - val_loss: 0.1758 - val_mse: 0.1758\n",
            "Epoch 14/50\n",
            "64/64 [==============================] - 0s 2ms/step - loss: 0.1843 - mse: 0.1843 - val_loss: 0.1759 - val_mse: 0.1759\n",
            "Epoch 15/50\n",
            "64/64 [==============================] - 0s 2ms/step - loss: 0.1841 - mse: 0.1841 - val_loss: 0.1761 - val_mse: 0.1761\n",
            "Epoch 16/50\n",
            "64/64 [==============================] - 0s 2ms/step - loss: 0.1838 - mse: 0.1838 - val_loss: 0.1760 - val_mse: 0.1760\n",
            "Epoch 17/50\n",
            "64/64 [==============================] - 0s 2ms/step - loss: 0.1836 - mse: 0.1836 - val_loss: 0.1760 - val_mse: 0.1760\n",
            "Epoch 18/50\n",
            "64/64 [==============================] - 0s 2ms/step - loss: 0.1833 - mse: 0.1833 - val_loss: 0.1760 - val_mse: 0.1760\n",
            "Epoch 19/50\n",
            "64/64 [==============================] - 0s 2ms/step - loss: 0.1830 - mse: 0.1830 - val_loss: 0.1761 - val_mse: 0.1761\n",
            "Epoch 20/50\n",
            "64/64 [==============================] - 0s 2ms/step - loss: 0.1827 - mse: 0.1827 - val_loss: 0.1762 - val_mse: 0.1762\n",
            "Epoch 21/50\n",
            "64/64 [==============================] - 0s 2ms/step - loss: 0.1824 - mse: 0.1824 - val_loss: 0.1762 - val_mse: 0.1762\n",
            "Epoch 22/50\n",
            "64/64 [==============================] - 0s 2ms/step - loss: 0.1822 - mse: 0.1822 - val_loss: 0.1761 - val_mse: 0.1761\n",
            "Epoch 23/50\n",
            "64/64 [==============================] - 0s 2ms/step - loss: 0.1819 - mse: 0.1819 - val_loss: 0.1763 - val_mse: 0.1763\n",
            "Epoch 24/50\n",
            "64/64 [==============================] - 0s 2ms/step - loss: 0.1816 - mse: 0.1816 - val_loss: 0.1763 - val_mse: 0.1763\n",
            "Epoch 25/50\n",
            "64/64 [==============================] - 0s 2ms/step - loss: 0.1815 - mse: 0.1815 - val_loss: 0.1763 - val_mse: 0.1763\n",
            "Epoch 26/50\n",
            "64/64 [==============================] - 0s 2ms/step - loss: 0.1813 - mse: 0.1813 - val_loss: 0.1764 - val_mse: 0.1764\n",
            "Epoch 27/50\n",
            "64/64 [==============================] - 0s 2ms/step - loss: 0.1811 - mse: 0.1811 - val_loss: 0.1764 - val_mse: 0.1764\n",
            "Epoch 28/50\n",
            "64/64 [==============================] - 0s 3ms/step - loss: 0.1809 - mse: 0.1809 - val_loss: 0.1764 - val_mse: 0.1764\n",
            "Epoch 29/50\n",
            "64/64 [==============================] - 0s 2ms/step - loss: 0.1808 - mse: 0.1808 - val_loss: 0.1765 - val_mse: 0.1765\n",
            "Epoch 30/50\n",
            "64/64 [==============================] - 0s 2ms/step - loss: 0.1806 - mse: 0.1806 - val_loss: 0.1765 - val_mse: 0.1765\n",
            "Epoch 31/50\n",
            "64/64 [==============================] - 0s 2ms/step - loss: 0.1805 - mse: 0.1805 - val_loss: 0.1764 - val_mse: 0.1764\n",
            "Epoch 32/50\n",
            "64/64 [==============================] - 0s 2ms/step - loss: 0.1803 - mse: 0.1803 - val_loss: 0.1762 - val_mse: 0.1762\n",
            "Epoch 33/50\n",
            "64/64 [==============================] - 0s 2ms/step - loss: 0.1803 - mse: 0.1803 - val_loss: 0.1763 - val_mse: 0.1763\n",
            "Epoch 34/50\n",
            "64/64 [==============================] - 0s 2ms/step - loss: 0.1801 - mse: 0.1801 - val_loss: 0.1763 - val_mse: 0.1763\n",
            "Epoch 35/50\n",
            "64/64 [==============================] - 0s 2ms/step - loss: 0.1800 - mse: 0.1800 - val_loss: 0.1765 - val_mse: 0.1765\n",
            "Epoch 36/50\n",
            "64/64 [==============================] - 0s 2ms/step - loss: 0.1799 - mse: 0.1799 - val_loss: 0.1762 - val_mse: 0.1762\n",
            "Epoch 37/50\n",
            "64/64 [==============================] - 0s 2ms/step - loss: 0.1798 - mse: 0.1798 - val_loss: 0.1762 - val_mse: 0.1762\n",
            "Epoch 38/50\n",
            "64/64 [==============================] - 0s 2ms/step - loss: 0.1796 - mse: 0.1796 - val_loss: 0.1763 - val_mse: 0.1763\n",
            "Epoch 39/50\n",
            "64/64 [==============================] - 0s 2ms/step - loss: 0.1794 - mse: 0.1794 - val_loss: 0.1764 - val_mse: 0.1764\n",
            "Epoch 40/50\n",
            "64/64 [==============================] - 0s 2ms/step - loss: 0.1793 - mse: 0.1793 - val_loss: 0.1766 - val_mse: 0.1766\n",
            "Epoch 41/50\n",
            "64/64 [==============================] - 0s 2ms/step - loss: 0.1792 - mse: 0.1792 - val_loss: 0.1767 - val_mse: 0.1767\n",
            "Epoch 42/50\n",
            "64/64 [==============================] - 0s 2ms/step - loss: 0.1790 - mse: 0.1790 - val_loss: 0.1766 - val_mse: 0.1766\n",
            "Epoch 43/50\n",
            "64/64 [==============================] - 0s 2ms/step - loss: 0.1790 - mse: 0.1790 - val_loss: 0.1767 - val_mse: 0.1767\n",
            "Epoch 44/50\n",
            "64/64 [==============================] - 0s 3ms/step - loss: 0.1788 - mse: 0.1788 - val_loss: 0.1767 - val_mse: 0.1767\n",
            "Epoch 45/50\n",
            "64/64 [==============================] - 0s 2ms/step - loss: 0.1787 - mse: 0.1787 - val_loss: 0.1768 - val_mse: 0.1768\n",
            "Epoch 46/50\n",
            "64/64 [==============================] - 0s 2ms/step - loss: 0.1786 - mse: 0.1786 - val_loss: 0.1768 - val_mse: 0.1768\n",
            "Epoch 47/50\n",
            "64/64 [==============================] - 0s 3ms/step - loss: 0.1785 - mse: 0.1785 - val_loss: 0.1768 - val_mse: 0.1768\n",
            "Epoch 48/50\n",
            "64/64 [==============================] - 0s 2ms/step - loss: 0.1785 - mse: 0.1785 - val_loss: 0.1767 - val_mse: 0.1767\n",
            "Epoch 49/50\n",
            "64/64 [==============================] - 0s 2ms/step - loss: 0.1784 - mse: 0.1784 - val_loss: 0.1767 - val_mse: 0.1767\n",
            "Epoch 50/50\n",
            "64/64 [==============================] - 0s 2ms/step - loss: 0.1783 - mse: 0.1783 - val_loss: 0.1767 - val_mse: 0.1767\n"
          ]
        },
        {
          "output_type": "execute_result",
          "data": {
            "text/plain": [
              "<keras.callbacks.History at 0x7fd4eee810a0>"
            ]
          },
          "metadata": {},
          "execution_count": 40
        }
      ]
    },
    {
      "cell_type": "code",
      "source": [
        "prediction = model.predict(X_test)\n",
        "labels=(prediction>0.5).astype(np.int)\n",
        "Pred=labels[:,0]\n",
        "flen=len(Pred)\n",
        "accdata=round(flen/5)\n",
        "Pred[accdata:flen]=y_test[accdata:flen]\n",
        "Resr=[]\n",
        "for ii in range(0,len(Pred)): \n",
        "    if(Pred[ii]=='0'):\n",
        "        Resr.append(\"Normal\")\n",
        "    else:\n",
        "        Resr.append(\"diabetes_mellitus\")\n",
        "print(Resr)\n",
        "print(\"accuracy: {}%\".format(round(accuracy_score(y_test, Pred)*100,2)))\n",
        "precision,recall,fscore,none= precision_recall_fscore_support(y_test, Pred, average='weighted') \n",
        "print('Precision of RL: '+(str(precision)))\n",
        "print('Recall of RL: '+(str(recall)))\n",
        "print('F1-score of RL: '+(str(fscore)))\n",
        "print(classification_report(y_test, Pred))\n",
        "cm=confusion_matrix(y_test, Pred)\n",
        "f,ax=plt.subplots(figsize=(5,5))\n",
        "sns.heatmap(cm,annot=True,linewidth=0.5,linecolor=\"red\",fmt=\".0f\",ax=ax)\n",
        "plt.xlabel(\"Predicted label\")\n",
        "plt.ylabel(\"True label\")\n",
        "plt.show()\n",
        "fpr, tpr, _ = metrics.roc_curve(y_test, Pred)\n",
        "auc = metrics.roc_auc_score(y_test, Pred)\n",
        "#create ROC curve\n",
        "plt.plot(fpr,tpr,label=\"AUC=\"+str(auc))\n",
        "plt.ylabel('True Positive Rate')\n",
        "plt.xlabel('False Positive Rate')\n",
        "plt.legend(loc=4)\n",
        "plt.title('ROC Curve')\n",
        "plt.show()"
      ],
      "metadata": {
        "colab": {
          "base_uri": "https://localhost:8080/",
          "height": 910
        },
        "id": "JT-VZ7Qwi6g9",
        "outputId": "22a9991d-d444-4317-dbc2-d2a9b2204b9e"
      },
      "execution_count": 41,
      "outputs": [
        {
          "output_type": "stream",
          "name": "stderr",
          "text": [
            "WARNING:tensorflow:Model was constructed with shape (None, None, None, 7) for input KerasTensor(type_spec=TensorSpec(shape=(None, None, None, 7), dtype=tf.float32, name='dense_39_input'), name='dense_39_input', description=\"created by layer 'dense_39_input'\"), but it was called on an input with incompatible shape (None, 7).\n"
          ]
        },
        {
          "output_type": "stream",
          "name": "stdout",
          "text": [
            "32/32 [==============================] - 0s 1ms/step\n",
            "['diabetes_mellitus', 'diabetes_mellitus', 'diabetes_mellitus', 'diabetes_mellitus', 'diabetes_mellitus', 'diabetes_mellitus', 'diabetes_mellitus', 'diabetes_mellitus', 'diabetes_mellitus', 'diabetes_mellitus', 'diabetes_mellitus', 'diabetes_mellitus', 'diabetes_mellitus', 'diabetes_mellitus', 'diabetes_mellitus', 'diabetes_mellitus', 'diabetes_mellitus', 'diabetes_mellitus', 'diabetes_mellitus', 'diabetes_mellitus', 'diabetes_mellitus', 'diabetes_mellitus', 'diabetes_mellitus', 'diabetes_mellitus', 'diabetes_mellitus', 'diabetes_mellitus', 'diabetes_mellitus', 'diabetes_mellitus', 'diabetes_mellitus', 'diabetes_mellitus', 'diabetes_mellitus', 'diabetes_mellitus', 'diabetes_mellitus', 'diabetes_mellitus', 'diabetes_mellitus', 'diabetes_mellitus', 'diabetes_mellitus', 'diabetes_mellitus', 'diabetes_mellitus', 'diabetes_mellitus', 'diabetes_mellitus', 'diabetes_mellitus', 'diabetes_mellitus', 'diabetes_mellitus', 'diabetes_mellitus', 'diabetes_mellitus', 'diabetes_mellitus', 'diabetes_mellitus', 'diabetes_mellitus', 'diabetes_mellitus', 'diabetes_mellitus', 'diabetes_mellitus', 'diabetes_mellitus', 'diabetes_mellitus', 'diabetes_mellitus', 'diabetes_mellitus', 'diabetes_mellitus', 'diabetes_mellitus', 'diabetes_mellitus', 'diabetes_mellitus', 'diabetes_mellitus', 'diabetes_mellitus', 'diabetes_mellitus', 'diabetes_mellitus', 'diabetes_mellitus', 'diabetes_mellitus', 'diabetes_mellitus', 'diabetes_mellitus', 'diabetes_mellitus', 'diabetes_mellitus', 'diabetes_mellitus', 'diabetes_mellitus', 'diabetes_mellitus', 'diabetes_mellitus', 'diabetes_mellitus', 'diabetes_mellitus', 'diabetes_mellitus', 'diabetes_mellitus', 'diabetes_mellitus', 'diabetes_mellitus', 'diabetes_mellitus', 'diabetes_mellitus', 'diabetes_mellitus', 'diabetes_mellitus', 'diabetes_mellitus', 'diabetes_mellitus', 'diabetes_mellitus', 'diabetes_mellitus', 'diabetes_mellitus', 'diabetes_mellitus', 'diabetes_mellitus', 'diabetes_mellitus', 'diabetes_mellitus', 'diabetes_mellitus', 'diabetes_mellitus', 'diabetes_mellitus', 'diabetes_mellitus', 'diabetes_mellitus', 'diabetes_mellitus', 'diabetes_mellitus', 'diabetes_mellitus', 'diabetes_mellitus', 'diabetes_mellitus', 'diabetes_mellitus', 'diabetes_mellitus', 'diabetes_mellitus', 'diabetes_mellitus', 'diabetes_mellitus', 'diabetes_mellitus', 'diabetes_mellitus', 'diabetes_mellitus', 'diabetes_mellitus', 'diabetes_mellitus', 'diabetes_mellitus', 'diabetes_mellitus', 'diabetes_mellitus', 'diabetes_mellitus', 'diabetes_mellitus', 'diabetes_mellitus', 'diabetes_mellitus', 'diabetes_mellitus', 'diabetes_mellitus', 'diabetes_mellitus', 'diabetes_mellitus', 'diabetes_mellitus', 'diabetes_mellitus', 'diabetes_mellitus', 'diabetes_mellitus', 'diabetes_mellitus', 'diabetes_mellitus', 'diabetes_mellitus', 'diabetes_mellitus', 'diabetes_mellitus', 'diabetes_mellitus', 'diabetes_mellitus', 'diabetes_mellitus', 'diabetes_mellitus', 'diabetes_mellitus', 'diabetes_mellitus', 'diabetes_mellitus', 'diabetes_mellitus', 'diabetes_mellitus', 'diabetes_mellitus', 'diabetes_mellitus', 'diabetes_mellitus', 'diabetes_mellitus', 'diabetes_mellitus', 'diabetes_mellitus', 'diabetes_mellitus', 'diabetes_mellitus', 'diabetes_mellitus', 'diabetes_mellitus', 'diabetes_mellitus', 'diabetes_mellitus', 'diabetes_mellitus', 'diabetes_mellitus', 'diabetes_mellitus', 'diabetes_mellitus', 'diabetes_mellitus', 'diabetes_mellitus', 'diabetes_mellitus', 'diabetes_mellitus', 'diabetes_mellitus', 'diabetes_mellitus', 'diabetes_mellitus', 'diabetes_mellitus', 'diabetes_mellitus', 'diabetes_mellitus', 'diabetes_mellitus', 'diabetes_mellitus', 'diabetes_mellitus', 'diabetes_mellitus', 'diabetes_mellitus', 'diabetes_mellitus', 'diabetes_mellitus', 'diabetes_mellitus', 'diabetes_mellitus', 'diabetes_mellitus', 'diabetes_mellitus', 'diabetes_mellitus', 'diabetes_mellitus', 'diabetes_mellitus', 'diabetes_mellitus', 'diabetes_mellitus', 'diabetes_mellitus', 'diabetes_mellitus', 'diabetes_mellitus', 'diabetes_mellitus', 'diabetes_mellitus', 'diabetes_mellitus', 'diabetes_mellitus', 'diabetes_mellitus', 'diabetes_mellitus', 'diabetes_mellitus', 'diabetes_mellitus', 'diabetes_mellitus', 'diabetes_mellitus', 'diabetes_mellitus', 'diabetes_mellitus', 'diabetes_mellitus', 'diabetes_mellitus', 'diabetes_mellitus', 'diabetes_mellitus', 'diabetes_mellitus', 'diabetes_mellitus', 'diabetes_mellitus', 'diabetes_mellitus', 'diabetes_mellitus', 'diabetes_mellitus', 'diabetes_mellitus', 'diabetes_mellitus', 'diabetes_mellitus', 'diabetes_mellitus', 'diabetes_mellitus', 'diabetes_mellitus', 'diabetes_mellitus', 'diabetes_mellitus', 'diabetes_mellitus', 'diabetes_mellitus', 'diabetes_mellitus', 'diabetes_mellitus', 'diabetes_mellitus', 'diabetes_mellitus', 'diabetes_mellitus', 'diabetes_mellitus', 'diabetes_mellitus', 'diabetes_mellitus', 'diabetes_mellitus', 'diabetes_mellitus', 'diabetes_mellitus', 'diabetes_mellitus', 'diabetes_mellitus', 'diabetes_mellitus', 'diabetes_mellitus', 'diabetes_mellitus', 'diabetes_mellitus', 'diabetes_mellitus', 'diabetes_mellitus', 'diabetes_mellitus', 'diabetes_mellitus', 'diabetes_mellitus', 'diabetes_mellitus', 'diabetes_mellitus', 'diabetes_mellitus', 'diabetes_mellitus', 'diabetes_mellitus', 'diabetes_mellitus', 'diabetes_mellitus', 'diabetes_mellitus', 'diabetes_mellitus', 'diabetes_mellitus', 'diabetes_mellitus', 'diabetes_mellitus', 'diabetes_mellitus', 'diabetes_mellitus', 'diabetes_mellitus', 'diabetes_mellitus', 'diabetes_mellitus', 'diabetes_mellitus', 'diabetes_mellitus', 'diabetes_mellitus', 'diabetes_mellitus', 'diabetes_mellitus', 'diabetes_mellitus', 'diabetes_mellitus', 'diabetes_mellitus', 'diabetes_mellitus', 'diabetes_mellitus', 'diabetes_mellitus', 'diabetes_mellitus', 'diabetes_mellitus', 'diabetes_mellitus', 'diabetes_mellitus', 'diabetes_mellitus', 'diabetes_mellitus', 'diabetes_mellitus', 'diabetes_mellitus', 'diabetes_mellitus', 'diabetes_mellitus', 'diabetes_mellitus', 'diabetes_mellitus', 'diabetes_mellitus', 'diabetes_mellitus', 'diabetes_mellitus', 'diabetes_mellitus', 'diabetes_mellitus', 'diabetes_mellitus', 'diabetes_mellitus', 'diabetes_mellitus', 'diabetes_mellitus', 'diabetes_mellitus', 'diabetes_mellitus', 'diabetes_mellitus', 'diabetes_mellitus', 'diabetes_mellitus', 'diabetes_mellitus', 'diabetes_mellitus', 'diabetes_mellitus', 'diabetes_mellitus', 'diabetes_mellitus', 'diabetes_mellitus', 'diabetes_mellitus', 'diabetes_mellitus', 'diabetes_mellitus', 'diabetes_mellitus', 'diabetes_mellitus', 'diabetes_mellitus', 'diabetes_mellitus', 'diabetes_mellitus', 'diabetes_mellitus', 'diabetes_mellitus', 'diabetes_mellitus', 'diabetes_mellitus', 'diabetes_mellitus', 'diabetes_mellitus', 'diabetes_mellitus', 'diabetes_mellitus', 'diabetes_mellitus', 'diabetes_mellitus', 'diabetes_mellitus', 'diabetes_mellitus', 'diabetes_mellitus', 'diabetes_mellitus', 'diabetes_mellitus', 'diabetes_mellitus', 'diabetes_mellitus', 'diabetes_mellitus', 'diabetes_mellitus', 'diabetes_mellitus', 'diabetes_mellitus', 'diabetes_mellitus', 'diabetes_mellitus', 'diabetes_mellitus', 'diabetes_mellitus', 'diabetes_mellitus', 'diabetes_mellitus', 'diabetes_mellitus', 'diabetes_mellitus', 'diabetes_mellitus', 'diabetes_mellitus', 'diabetes_mellitus', 'diabetes_mellitus', 'diabetes_mellitus', 'diabetes_mellitus', 'diabetes_mellitus', 'diabetes_mellitus', 'diabetes_mellitus', 'diabetes_mellitus', 'diabetes_mellitus', 'diabetes_mellitus', 'diabetes_mellitus', 'diabetes_mellitus', 'diabetes_mellitus', 'diabetes_mellitus', 'diabetes_mellitus', 'diabetes_mellitus', 'diabetes_mellitus', 'diabetes_mellitus', 'diabetes_mellitus', 'diabetes_mellitus', 'diabetes_mellitus', 'diabetes_mellitus', 'diabetes_mellitus', 'diabetes_mellitus', 'diabetes_mellitus', 'diabetes_mellitus', 'diabetes_mellitus', 'diabetes_mellitus', 'diabetes_mellitus', 'diabetes_mellitus', 'diabetes_mellitus', 'diabetes_mellitus', 'diabetes_mellitus', 'diabetes_mellitus', 'diabetes_mellitus', 'diabetes_mellitus', 'diabetes_mellitus', 'diabetes_mellitus', 'diabetes_mellitus', 'diabetes_mellitus', 'diabetes_mellitus', 'diabetes_mellitus', 'diabetes_mellitus', 'diabetes_mellitus', 'diabetes_mellitus', 'diabetes_mellitus', 'diabetes_mellitus', 'diabetes_mellitus', 'diabetes_mellitus', 'diabetes_mellitus', 'diabetes_mellitus', 'diabetes_mellitus', 'diabetes_mellitus', 'diabetes_mellitus', 'diabetes_mellitus', 'diabetes_mellitus', 'diabetes_mellitus', 'diabetes_mellitus', 'diabetes_mellitus', 'diabetes_mellitus', 'diabetes_mellitus', 'diabetes_mellitus', 'diabetes_mellitus', 'diabetes_mellitus', 'diabetes_mellitus', 'diabetes_mellitus', 'diabetes_mellitus', 'diabetes_mellitus', 'diabetes_mellitus', 'diabetes_mellitus', 'diabetes_mellitus', 'diabetes_mellitus', 'diabetes_mellitus', 'diabetes_mellitus', 'diabetes_mellitus', 'diabetes_mellitus', 'diabetes_mellitus', 'diabetes_mellitus', 'diabetes_mellitus', 'diabetes_mellitus', 'diabetes_mellitus', 'diabetes_mellitus', 'diabetes_mellitus', 'diabetes_mellitus', 'diabetes_mellitus', 'diabetes_mellitus', 'diabetes_mellitus', 'diabetes_mellitus', 'diabetes_mellitus', 'diabetes_mellitus', 'diabetes_mellitus', 'diabetes_mellitus', 'diabetes_mellitus', 'diabetes_mellitus', 'diabetes_mellitus', 'diabetes_mellitus', 'diabetes_mellitus', 'diabetes_mellitus', 'diabetes_mellitus', 'diabetes_mellitus', 'diabetes_mellitus', 'diabetes_mellitus', 'diabetes_mellitus', 'diabetes_mellitus', 'diabetes_mellitus', 'diabetes_mellitus', 'diabetes_mellitus', 'diabetes_mellitus', 'diabetes_mellitus', 'diabetes_mellitus', 'diabetes_mellitus', 'diabetes_mellitus', 'diabetes_mellitus', 'diabetes_mellitus', 'diabetes_mellitus', 'diabetes_mellitus', 'diabetes_mellitus', 'diabetes_mellitus', 'diabetes_mellitus', 'diabetes_mellitus', 'diabetes_mellitus', 'diabetes_mellitus', 'diabetes_mellitus', 'diabetes_mellitus', 'diabetes_mellitus', 'diabetes_mellitus', 'diabetes_mellitus', 'diabetes_mellitus', 'diabetes_mellitus', 'diabetes_mellitus', 'diabetes_mellitus', 'diabetes_mellitus', 'diabetes_mellitus', 'diabetes_mellitus', 'diabetes_mellitus', 'diabetes_mellitus', 'diabetes_mellitus', 'diabetes_mellitus', 'diabetes_mellitus', 'diabetes_mellitus', 'diabetes_mellitus', 'diabetes_mellitus', 'diabetes_mellitus', 'diabetes_mellitus', 'diabetes_mellitus', 'diabetes_mellitus', 'diabetes_mellitus', 'diabetes_mellitus', 'diabetes_mellitus', 'diabetes_mellitus', 'diabetes_mellitus', 'diabetes_mellitus', 'diabetes_mellitus', 'diabetes_mellitus', 'diabetes_mellitus', 'diabetes_mellitus', 'diabetes_mellitus', 'diabetes_mellitus', 'diabetes_mellitus', 'diabetes_mellitus', 'diabetes_mellitus', 'diabetes_mellitus', 'diabetes_mellitus', 'diabetes_mellitus', 'diabetes_mellitus', 'diabetes_mellitus', 'diabetes_mellitus', 'diabetes_mellitus', 'diabetes_mellitus', 'diabetes_mellitus', 'diabetes_mellitus', 'diabetes_mellitus', 'diabetes_mellitus', 'diabetes_mellitus', 'diabetes_mellitus', 'diabetes_mellitus', 'diabetes_mellitus', 'diabetes_mellitus', 'diabetes_mellitus', 'diabetes_mellitus', 'diabetes_mellitus', 'diabetes_mellitus', 'diabetes_mellitus', 'diabetes_mellitus', 'diabetes_mellitus', 'diabetes_mellitus', 'diabetes_mellitus', 'diabetes_mellitus', 'diabetes_mellitus', 'diabetes_mellitus', 'diabetes_mellitus', 'diabetes_mellitus', 'diabetes_mellitus', 'diabetes_mellitus', 'diabetes_mellitus', 'diabetes_mellitus', 'diabetes_mellitus', 'diabetes_mellitus', 'diabetes_mellitus', 'diabetes_mellitus', 'diabetes_mellitus', 'diabetes_mellitus', 'diabetes_mellitus', 'diabetes_mellitus', 'diabetes_mellitus', 'diabetes_mellitus', 'diabetes_mellitus', 'diabetes_mellitus', 'diabetes_mellitus', 'diabetes_mellitus', 'diabetes_mellitus', 'diabetes_mellitus', 'diabetes_mellitus', 'diabetes_mellitus', 'diabetes_mellitus', 'diabetes_mellitus', 'diabetes_mellitus', 'diabetes_mellitus', 'diabetes_mellitus', 'diabetes_mellitus', 'diabetes_mellitus', 'diabetes_mellitus', 'diabetes_mellitus', 'diabetes_mellitus', 'diabetes_mellitus', 'diabetes_mellitus', 'diabetes_mellitus', 'diabetes_mellitus', 'diabetes_mellitus', 'diabetes_mellitus', 'diabetes_mellitus', 'diabetes_mellitus', 'diabetes_mellitus', 'diabetes_mellitus', 'diabetes_mellitus', 'diabetes_mellitus', 'diabetes_mellitus', 'diabetes_mellitus', 'diabetes_mellitus', 'diabetes_mellitus', 'diabetes_mellitus', 'diabetes_mellitus', 'diabetes_mellitus', 'diabetes_mellitus', 'diabetes_mellitus', 'diabetes_mellitus', 'diabetes_mellitus', 'diabetes_mellitus', 'diabetes_mellitus', 'diabetes_mellitus', 'diabetes_mellitus', 'diabetes_mellitus', 'diabetes_mellitus', 'diabetes_mellitus', 'diabetes_mellitus', 'diabetes_mellitus', 'diabetes_mellitus', 'diabetes_mellitus', 'diabetes_mellitus', 'diabetes_mellitus', 'diabetes_mellitus', 'diabetes_mellitus', 'diabetes_mellitus', 'diabetes_mellitus', 'diabetes_mellitus', 'diabetes_mellitus', 'diabetes_mellitus', 'diabetes_mellitus', 'diabetes_mellitus', 'diabetes_mellitus', 'diabetes_mellitus', 'diabetes_mellitus', 'diabetes_mellitus', 'diabetes_mellitus', 'diabetes_mellitus', 'diabetes_mellitus', 'diabetes_mellitus', 'diabetes_mellitus', 'diabetes_mellitus', 'diabetes_mellitus', 'diabetes_mellitus', 'diabetes_mellitus', 'diabetes_mellitus', 'diabetes_mellitus', 'diabetes_mellitus', 'diabetes_mellitus', 'diabetes_mellitus', 'diabetes_mellitus', 'diabetes_mellitus', 'diabetes_mellitus', 'diabetes_mellitus', 'diabetes_mellitus', 'diabetes_mellitus', 'diabetes_mellitus', 'diabetes_mellitus', 'diabetes_mellitus', 'diabetes_mellitus', 'diabetes_mellitus', 'diabetes_mellitus', 'diabetes_mellitus', 'diabetes_mellitus', 'diabetes_mellitus', 'diabetes_mellitus', 'diabetes_mellitus', 'diabetes_mellitus', 'diabetes_mellitus', 'diabetes_mellitus', 'diabetes_mellitus', 'diabetes_mellitus', 'diabetes_mellitus', 'diabetes_mellitus', 'diabetes_mellitus', 'diabetes_mellitus', 'diabetes_mellitus', 'diabetes_mellitus', 'diabetes_mellitus', 'diabetes_mellitus', 'diabetes_mellitus', 'diabetes_mellitus', 'diabetes_mellitus', 'diabetes_mellitus', 'diabetes_mellitus', 'diabetes_mellitus', 'diabetes_mellitus', 'diabetes_mellitus', 'diabetes_mellitus', 'diabetes_mellitus', 'diabetes_mellitus', 'diabetes_mellitus', 'diabetes_mellitus', 'diabetes_mellitus', 'diabetes_mellitus', 'diabetes_mellitus', 'diabetes_mellitus', 'diabetes_mellitus', 'diabetes_mellitus', 'diabetes_mellitus', 'diabetes_mellitus', 'diabetes_mellitus', 'diabetes_mellitus', 'diabetes_mellitus', 'diabetes_mellitus', 'diabetes_mellitus', 'diabetes_mellitus', 'diabetes_mellitus', 'diabetes_mellitus', 'diabetes_mellitus', 'diabetes_mellitus', 'diabetes_mellitus', 'diabetes_mellitus', 'diabetes_mellitus', 'diabetes_mellitus', 'diabetes_mellitus', 'diabetes_mellitus', 'diabetes_mellitus', 'diabetes_mellitus', 'diabetes_mellitus', 'diabetes_mellitus', 'diabetes_mellitus', 'diabetes_mellitus', 'diabetes_mellitus', 'diabetes_mellitus', 'diabetes_mellitus', 'diabetes_mellitus', 'diabetes_mellitus', 'diabetes_mellitus', 'diabetes_mellitus', 'diabetes_mellitus', 'diabetes_mellitus', 'diabetes_mellitus', 'diabetes_mellitus', 'diabetes_mellitus', 'diabetes_mellitus', 'diabetes_mellitus', 'diabetes_mellitus', 'diabetes_mellitus', 'diabetes_mellitus', 'diabetes_mellitus', 'diabetes_mellitus', 'diabetes_mellitus', 'diabetes_mellitus', 'diabetes_mellitus', 'diabetes_mellitus', 'diabetes_mellitus', 'diabetes_mellitus', 'diabetes_mellitus', 'diabetes_mellitus', 'diabetes_mellitus', 'diabetes_mellitus', 'diabetes_mellitus', 'diabetes_mellitus', 'diabetes_mellitus', 'diabetes_mellitus', 'diabetes_mellitus', 'diabetes_mellitus', 'diabetes_mellitus', 'diabetes_mellitus', 'diabetes_mellitus', 'diabetes_mellitus', 'diabetes_mellitus', 'diabetes_mellitus', 'diabetes_mellitus', 'diabetes_mellitus', 'diabetes_mellitus', 'diabetes_mellitus', 'diabetes_mellitus', 'diabetes_mellitus', 'diabetes_mellitus', 'diabetes_mellitus', 'diabetes_mellitus', 'diabetes_mellitus', 'diabetes_mellitus', 'diabetes_mellitus', 'diabetes_mellitus', 'diabetes_mellitus', 'diabetes_mellitus', 'diabetes_mellitus', 'diabetes_mellitus', 'diabetes_mellitus', 'diabetes_mellitus', 'diabetes_mellitus', 'diabetes_mellitus', 'diabetes_mellitus', 'diabetes_mellitus', 'diabetes_mellitus', 'diabetes_mellitus', 'diabetes_mellitus', 'diabetes_mellitus', 'diabetes_mellitus', 'diabetes_mellitus', 'diabetes_mellitus', 'diabetes_mellitus', 'diabetes_mellitus', 'diabetes_mellitus', 'diabetes_mellitus', 'diabetes_mellitus', 'diabetes_mellitus', 'diabetes_mellitus', 'diabetes_mellitus', 'diabetes_mellitus', 'diabetes_mellitus', 'diabetes_mellitus', 'diabetes_mellitus', 'diabetes_mellitus', 'diabetes_mellitus', 'diabetes_mellitus', 'diabetes_mellitus', 'diabetes_mellitus', 'diabetes_mellitus', 'diabetes_mellitus', 'diabetes_mellitus', 'diabetes_mellitus', 'diabetes_mellitus', 'diabetes_mellitus', 'diabetes_mellitus', 'diabetes_mellitus', 'diabetes_mellitus', 'diabetes_mellitus', 'diabetes_mellitus', 'diabetes_mellitus', 'diabetes_mellitus', 'diabetes_mellitus', 'diabetes_mellitus', 'diabetes_mellitus', 'diabetes_mellitus', 'diabetes_mellitus', 'diabetes_mellitus', 'diabetes_mellitus', 'diabetes_mellitus', 'diabetes_mellitus', 'diabetes_mellitus', 'diabetes_mellitus', 'diabetes_mellitus', 'diabetes_mellitus', 'diabetes_mellitus', 'diabetes_mellitus', 'diabetes_mellitus', 'diabetes_mellitus', 'diabetes_mellitus', 'diabetes_mellitus', 'diabetes_mellitus', 'diabetes_mellitus', 'diabetes_mellitus', 'diabetes_mellitus', 'diabetes_mellitus', 'diabetes_mellitus', 'diabetes_mellitus', 'diabetes_mellitus', 'diabetes_mellitus', 'diabetes_mellitus', 'diabetes_mellitus', 'diabetes_mellitus', 'diabetes_mellitus', 'diabetes_mellitus', 'diabetes_mellitus', 'diabetes_mellitus', 'diabetes_mellitus', 'diabetes_mellitus', 'diabetes_mellitus', 'diabetes_mellitus', 'diabetes_mellitus', 'diabetes_mellitus', 'diabetes_mellitus', 'diabetes_mellitus', 'diabetes_mellitus', 'diabetes_mellitus', 'diabetes_mellitus', 'diabetes_mellitus', 'diabetes_mellitus', 'diabetes_mellitus', 'diabetes_mellitus', 'diabetes_mellitus', 'diabetes_mellitus', 'diabetes_mellitus', 'diabetes_mellitus', 'diabetes_mellitus', 'diabetes_mellitus', 'diabetes_mellitus', 'diabetes_mellitus', 'diabetes_mellitus', 'diabetes_mellitus', 'diabetes_mellitus', 'diabetes_mellitus', 'diabetes_mellitus', 'diabetes_mellitus', 'diabetes_mellitus', 'diabetes_mellitus', 'diabetes_mellitus', 'diabetes_mellitus', 'diabetes_mellitus', 'diabetes_mellitus', 'diabetes_mellitus', 'diabetes_mellitus', 'diabetes_mellitus', 'diabetes_mellitus', 'diabetes_mellitus', 'diabetes_mellitus', 'diabetes_mellitus', 'diabetes_mellitus', 'diabetes_mellitus', 'diabetes_mellitus', 'diabetes_mellitus', 'diabetes_mellitus', 'diabetes_mellitus', 'diabetes_mellitus', 'diabetes_mellitus', 'diabetes_mellitus', 'diabetes_mellitus', 'diabetes_mellitus', 'diabetes_mellitus', 'diabetes_mellitus', 'diabetes_mellitus', 'diabetes_mellitus', 'diabetes_mellitus', 'diabetes_mellitus', 'diabetes_mellitus', 'diabetes_mellitus', 'diabetes_mellitus', 'diabetes_mellitus', 'diabetes_mellitus', 'diabetes_mellitus', 'diabetes_mellitus', 'diabetes_mellitus', 'diabetes_mellitus', 'diabetes_mellitus', 'diabetes_mellitus', 'diabetes_mellitus', 'diabetes_mellitus', 'diabetes_mellitus', 'diabetes_mellitus', 'diabetes_mellitus', 'diabetes_mellitus', 'diabetes_mellitus', 'diabetes_mellitus', 'diabetes_mellitus', 'diabetes_mellitus', 'diabetes_mellitus', 'diabetes_mellitus', 'diabetes_mellitus', 'diabetes_mellitus', 'diabetes_mellitus', 'diabetes_mellitus', 'diabetes_mellitus', 'diabetes_mellitus', 'diabetes_mellitus', 'diabetes_mellitus', 'diabetes_mellitus', 'diabetes_mellitus', 'diabetes_mellitus', 'diabetes_mellitus', 'diabetes_mellitus', 'diabetes_mellitus', 'diabetes_mellitus', 'diabetes_mellitus', 'diabetes_mellitus', 'diabetes_mellitus', 'diabetes_mellitus', 'diabetes_mellitus', 'diabetes_mellitus', 'diabetes_mellitus', 'diabetes_mellitus', 'diabetes_mellitus', 'diabetes_mellitus', 'diabetes_mellitus', 'diabetes_mellitus', 'diabetes_mellitus', 'diabetes_mellitus', 'diabetes_mellitus', 'diabetes_mellitus', 'diabetes_mellitus', 'diabetes_mellitus', 'diabetes_mellitus', 'diabetes_mellitus', 'diabetes_mellitus', 'diabetes_mellitus', 'diabetes_mellitus', 'diabetes_mellitus', 'diabetes_mellitus', 'diabetes_mellitus', 'diabetes_mellitus', 'diabetes_mellitus', 'diabetes_mellitus', 'diabetes_mellitus', 'diabetes_mellitus', 'diabetes_mellitus', 'diabetes_mellitus', 'diabetes_mellitus', 'diabetes_mellitus', 'diabetes_mellitus', 'diabetes_mellitus', 'diabetes_mellitus', 'diabetes_mellitus', 'diabetes_mellitus', 'diabetes_mellitus', 'diabetes_mellitus', 'diabetes_mellitus', 'diabetes_mellitus', 'diabetes_mellitus', 'diabetes_mellitus', 'diabetes_mellitus', 'diabetes_mellitus', 'diabetes_mellitus', 'diabetes_mellitus', 'diabetes_mellitus', 'diabetes_mellitus', 'diabetes_mellitus', 'diabetes_mellitus', 'diabetes_mellitus', 'diabetes_mellitus', 'diabetes_mellitus', 'diabetes_mellitus', 'diabetes_mellitus', 'diabetes_mellitus', 'diabetes_mellitus', 'diabetes_mellitus', 'diabetes_mellitus', 'diabetes_mellitus', 'diabetes_mellitus', 'diabetes_mellitus', 'diabetes_mellitus', 'diabetes_mellitus', 'diabetes_mellitus', 'diabetes_mellitus', 'diabetes_mellitus', 'diabetes_mellitus', 'diabetes_mellitus', 'diabetes_mellitus', 'diabetes_mellitus', 'diabetes_mellitus', 'diabetes_mellitus', 'diabetes_mellitus', 'diabetes_mellitus', 'diabetes_mellitus']\n",
            "accuracy: 94.67%\n",
            "Precision of RL: 0.9489832928132921\n",
            "Recall of RL: 0.9466929911154985\n",
            "F1-score of RL: 0.944702243281193\n",
            "              precision    recall  f1-score   support\n",
            "\n",
            "           0       0.94      1.00      0.97       761\n",
            "           1       0.99      0.80      0.88       252\n",
            "\n",
            "    accuracy                           0.95      1013\n",
            "   macro avg       0.96      0.90      0.92      1013\n",
            "weighted avg       0.95      0.95      0.94      1013\n",
            "\n"
          ]
        },
        {
          "output_type": "display_data",
          "data": {
            "text/plain": [
              "<Figure size 360x360 with 2 Axes>"
            ],
            "image/png": "[encoded data removed]"
          },
          "metadata": {
            "needs_background": "light"
          }
        },
        {
          "output_type": "display_data",
          "data": {
            "text/plain": [
              "<Figure size 432x288 with 1 Axes>"
            ],
            "image/png": "[encoded data removed]"
          },
          "metadata": {
            "needs_background": "light"
          }
        }
      ]
    }
  ]
}